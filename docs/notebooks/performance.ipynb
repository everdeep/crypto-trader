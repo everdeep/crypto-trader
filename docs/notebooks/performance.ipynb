{
 "cells": [
  {
   "attachments": {},
   "cell_type": "markdown",
   "metadata": {},
   "source": [
    "# Visualing portfolio performance"
   ]
  },
  {
   "cell_type": "code",
   "execution_count": 12,
   "metadata": {},
   "outputs": [
    {
     "name": "stdout",
     "output_type": "stream",
     "text": [
      "Sandbox: False\n"
     ]
    }
   ],
   "source": [
    "import sys\n",
    "\n",
    "# Add the src directory to the path\n",
    "# If it bugs out, just alternate between ../../ and ../../src\n",
    "sys.path.append(\"../../\")\n",
    "\n",
    "from src.config import config\n",
    "from sqlalchemy import create_engine\n",
    "from sqlalchemy.orm import Session\n",
    "\n",
    "ENGINE  = create_engine(config.SQLALCHEMY_DATABASE_URI, echo=False, pool_size=20, max_overflow=0)\n",
    "\n",
    "print('Sandbox:', config.API_SANDBOX)"
   ]
  },
  {
   "cell_type": "code",
   "execution_count": 13,
   "metadata": {},
   "outputs": [],
   "source": [
    "from src.service import DataService\n",
    "from cryptolib.model import PortfolioHistoryModel, BalanceHistoryModel, CurrencyPairConfigModel\n",
    "import matplotlib.pyplot as plt\n",
    "\n",
    "def bot_info(bot: CurrencyPairConfigModel, **params):\n",
    "    strat_config = ','.join([sc.value for sc in bot.strategy_config])\n",
    "    output = f\"Bot: {bot.id} - {bot.currency_pair} - {bot.strategy.value} ({strat_config}) - {bot.interval.value}\"\n",
    "    for key, val in params.items():\n",
    "        output += f\" - {key}: {val}\"\n",
    "    print(output)"
   ]
  },
  {
   "attachments": {},
   "cell_type": "markdown",
   "metadata": {},
   "source": [
    "### Bokeh\n",
    "For nice graphing..."
   ]
  },
  {
   "cell_type": "code",
   "execution_count": 15,
   "metadata": {},
   "outputs": [
    {
     "data": {
      "text/html": [
       "<div class=\"bk-root\">\n",
       "        <a href=\"https://bokeh.org\" target=\"_blank\" class=\"bk-logo bk-logo-small bk-logo-notebook\"></a>\n",
       "        <span id=\"1004\">Loading BokehJS ...</span>\n",
       "    </div>\n"
      ]
     },
     "metadata": {},
     "output_type": "display_data"
    },
    {
     "data": {
      "application/javascript": "(function(root) {\n  function now() {\n    return new Date();\n  }\n\n  const force = true;\n\n  if (typeof root._bokeh_onload_callbacks === \"undefined\" || force === true) {\n    root._bokeh_onload_callbacks = [];\n    root._bokeh_is_loading = undefined;\n  }\n\nconst JS_MIME_TYPE = 'application/javascript';\n  const HTML_MIME_TYPE = 'text/html';\n  const EXEC_MIME_TYPE = 'application/vnd.bokehjs_exec.v0+json';\n  const CLASS_NAME = 'output_bokeh rendered_html';\n\n  /**\n   * Render data to the DOM node\n   */\n  function render(props, node) {\n    const script = document.createElement(\"script\");\n    node.appendChild(script);\n  }\n\n  /**\n   * Handle when an output is cleared or removed\n   */\n  function handleClearOutput(event, handle) {\n    const cell = handle.cell;\n\n    const id = cell.output_area._bokeh_element_id;\n    const server_id = cell.output_area._bokeh_server_id;\n    // Clean up Bokeh references\n    if (id != null && id in Bokeh.index) {\n      Bokeh.index[id].model.document.clear();\n      delete Bokeh.index[id];\n    }\n\n    if (server_id !== undefined) {\n      // Clean up Bokeh references\n      const cmd_clean = \"from bokeh.io.state import curstate; print(curstate().uuid_to_server['\" + server_id + \"'].get_sessions()[0].document.roots[0]._id)\";\n      cell.notebook.kernel.execute(cmd_clean, {\n        iopub: {\n          output: function(msg) {\n            const id = msg.content.text.trim();\n            if (id in Bokeh.index) {\n              Bokeh.index[id].model.document.clear();\n              delete Bokeh.index[id];\n            }\n          }\n        }\n      });\n      // Destroy server and session\n      const cmd_destroy = \"import bokeh.io.notebook as ion; ion.destroy_server('\" + server_id + \"')\";\n      cell.notebook.kernel.execute(cmd_destroy);\n    }\n  }\n\n  /**\n   * Handle when a new output is added\n   */\n  function handleAddOutput(event, handle) {\n    const output_area = handle.output_area;\n    const output = handle.output;\n\n    // limit handleAddOutput to display_data with EXEC_MIME_TYPE content only\n    if ((output.output_type != \"display_data\") || (!Object.prototype.hasOwnProperty.call(output.data, EXEC_MIME_TYPE))) {\n      return\n    }\n\n    const toinsert = output_area.element.find(\".\" + CLASS_NAME.split(' ')[0]);\n\n    if (output.metadata[EXEC_MIME_TYPE][\"id\"] !== undefined) {\n      toinsert[toinsert.length - 1].firstChild.textContent = output.data[JS_MIME_TYPE];\n      // store reference to embed id on output_area\n      output_area._bokeh_element_id = output.metadata[EXEC_MIME_TYPE][\"id\"];\n    }\n    if (output.metadata[EXEC_MIME_TYPE][\"server_id\"] !== undefined) {\n      const bk_div = document.createElement(\"div\");\n      bk_div.innerHTML = output.data[HTML_MIME_TYPE];\n      const script_attrs = bk_div.children[0].attributes;\n      for (let i = 0; i < script_attrs.length; i++) {\n        toinsert[toinsert.length - 1].firstChild.setAttribute(script_attrs[i].name, script_attrs[i].value);\n        toinsert[toinsert.length - 1].firstChild.textContent = bk_div.children[0].textContent\n      }\n      // store reference to server id on output_area\n      output_area._bokeh_server_id = output.metadata[EXEC_MIME_TYPE][\"server_id\"];\n    }\n  }\n\n  function register_renderer(events, OutputArea) {\n\n    function append_mime(data, metadata, element) {\n      // create a DOM node to render to\n      const toinsert = this.create_output_subarea(\n        metadata,\n        CLASS_NAME,\n        EXEC_MIME_TYPE\n      );\n      this.keyboard_manager.register_events(toinsert);\n      // Render to node\n      const props = {data: data, metadata: metadata[EXEC_MIME_TYPE]};\n      render(props, toinsert[toinsert.length - 1]);\n      element.append(toinsert);\n      return toinsert\n    }\n\n    /* Handle when an output is cleared or removed */\n    events.on('clear_output.CodeCell', handleClearOutput);\n    events.on('delete.Cell', handleClearOutput);\n\n    /* Handle when a new output is added */\n    events.on('output_added.OutputArea', handleAddOutput);\n\n    /**\n     * Register the mime type and append_mime function with output_area\n     */\n    OutputArea.prototype.register_mime_type(EXEC_MIME_TYPE, append_mime, {\n      /* Is output safe? */\n      safe: true,\n      /* Index of renderer in `output_area.display_order` */\n      index: 0\n    });\n  }\n\n  // register the mime type if in Jupyter Notebook environment and previously unregistered\n  if (root.Jupyter !== undefined) {\n    const events = require('base/js/events');\n    const OutputArea = require('notebook/js/outputarea').OutputArea;\n\n    if (OutputArea.prototype.mime_types().indexOf(EXEC_MIME_TYPE) == -1) {\n      register_renderer(events, OutputArea);\n    }\n  }\n  if (typeof (root._bokeh_timeout) === \"undefined\" || force === true) {\n    root._bokeh_timeout = Date.now() + 5000;\n    root._bokeh_failed_load = false;\n  }\n\n  const NB_LOAD_WARNING = {'data': {'text/html':\n     \"<div style='background-color: #fdd'>\\n\"+\n     \"<p>\\n\"+\n     \"BokehJS does not appear to have successfully loaded. If loading BokehJS from CDN, this \\n\"+\n     \"may be due to a slow or bad network connection. Possible fixes:\\n\"+\n     \"</p>\\n\"+\n     \"<ul>\\n\"+\n     \"<li>re-rerun `output_notebook()` to attempt to load from CDN again, or</li>\\n\"+\n     \"<li>use INLINE resources instead, as so:</li>\\n\"+\n     \"</ul>\\n\"+\n     \"<code>\\n\"+\n     \"from bokeh.resources import INLINE\\n\"+\n     \"output_notebook(resources=INLINE)\\n\"+\n     \"</code>\\n\"+\n     \"</div>\"}};\n\n  function display_loaded() {\n    const el = document.getElementById(\"1004\");\n    if (el != null) {\n      el.textContent = \"BokehJS is loading...\";\n    }\n    if (root.Bokeh !== undefined) {\n      if (el != null) {\n        el.textContent = \"BokehJS \" + root.Bokeh.version + \" successfully loaded.\";\n      }\n    } else if (Date.now() < root._bokeh_timeout) {\n      setTimeout(display_loaded, 100)\n    }\n  }\n\n  function run_callbacks() {\n    try {\n      root._bokeh_onload_callbacks.forEach(function(callback) {\n        if (callback != null)\n          callback();\n      });\n    } finally {\n      delete root._bokeh_onload_callbacks\n    }\n    console.debug(\"Bokeh: all callbacks have finished\");\n  }\n\n  function load_libs(css_urls, js_urls, callback) {\n    if (css_urls == null) css_urls = [];\n    if (js_urls == null) js_urls = [];\n\n    root._bokeh_onload_callbacks.push(callback);\n    if (root._bokeh_is_loading > 0) {\n      console.debug(\"Bokeh: BokehJS is being loaded, scheduling callback at\", now());\n      return null;\n    }\n    if (js_urls == null || js_urls.length === 0) {\n      run_callbacks();\n      return null;\n    }\n    console.debug(\"Bokeh: BokehJS not loaded, scheduling load and callback at\", now());\n    root._bokeh_is_loading = css_urls.length + js_urls.length;\n\n    function on_load() {\n      root._bokeh_is_loading--;\n      if (root._bokeh_is_loading === 0) {\n        console.debug(\"Bokeh: all BokehJS libraries/stylesheets loaded\");\n        run_callbacks()\n      }\n    }\n\n    function on_error(url) {\n      console.error(\"failed to load \" + url);\n    }\n\n    for (let i = 0; i < css_urls.length; i++) {\n      const url = css_urls[i];\n      const element = document.createElement(\"link\");\n      element.onload = on_load;\n      element.onerror = on_error.bind(null, url);\n      element.rel = \"stylesheet\";\n      element.type = \"text/css\";\n      element.href = url;\n      console.debug(\"Bokeh: injecting link tag for BokehJS stylesheet: \", url);\n      document.body.appendChild(element);\n    }\n\n    for (let i = 0; i < js_urls.length; i++) {\n      const url = js_urls[i];\n      const element = document.createElement('script');\n      element.onload = on_load;\n      element.onerror = on_error.bind(null, url);\n      element.async = false;\n      element.src = url;\n      console.debug(\"Bokeh: injecting script tag for BokehJS library: \", url);\n      document.head.appendChild(element);\n    }\n  };\n\n  function inject_raw_css(css) {\n    const element = document.createElement(\"style\");\n    element.appendChild(document.createTextNode(css));\n    document.body.appendChild(element);\n  }\n\n  const js_urls = [\"https://cdn.bokeh.org/bokeh/release/bokeh-2.4.3.min.js\", \"https://cdn.bokeh.org/bokeh/release/bokeh-gl-2.4.3.min.js\", \"https://cdn.bokeh.org/bokeh/release/bokeh-widgets-2.4.3.min.js\", \"https://cdn.bokeh.org/bokeh/release/bokeh-tables-2.4.3.min.js\", \"https://cdn.bokeh.org/bokeh/release/bokeh-mathjax-2.4.3.min.js\"];\n  const css_urls = [];\n\n  const inline_js = [    function(Bokeh) {\n      Bokeh.set_log_level(\"info\");\n    },\nfunction(Bokeh) {\n    }\n  ];\n\n  function run_inline_js() {\n    if (root.Bokeh !== undefined || force === true) {\n          for (let i = 0; i < inline_js.length; i++) {\n      inline_js[i].call(root, root.Bokeh);\n    }\nif (force === true) {\n        display_loaded();\n      }} else if (Date.now() < root._bokeh_timeout) {\n      setTimeout(run_inline_js, 100);\n    } else if (!root._bokeh_failed_load) {\n      console.log(\"Bokeh: BokehJS failed to load within specified timeout.\");\n      root._bokeh_failed_load = true;\n    } else if (force !== true) {\n      const cell = $(document.getElementById(\"1004\")).parents('.cell').data().cell;\n      cell.output_area.append_execute_result(NB_LOAD_WARNING)\n    }\n  }\n\n  if (root._bokeh_is_loading === 0) {\n    console.debug(\"Bokeh: BokehJS loaded, going straight to plotting\");\n    run_inline_js();\n  } else {\n    load_libs(css_urls, js_urls, function() {\n      console.debug(\"Bokeh: BokehJS plotting callback run at\", now());\n      run_inline_js();\n    });\n  }\n}(window));",
      "application/vnd.bokehjs_load.v0+json": ""
     },
     "metadata": {},
     "output_type": "display_data"
    }
   ],
   "source": [
    "from bokeh.plotting import figure, show\n",
    "from bokeh.models import ColumnDataSource\n",
    "from bokeh.models.tools import HoverTool\n",
    "from bokeh.palettes import Category10, Dark2_5\n",
    "from bokeh.io import output_notebook\n",
    "\n",
    "import itertools\n",
    "\n",
    "output_notebook()\n",
    "\n",
    "colors = itertools.cycle(Dark2_5)\n",
    "\n",
    "class BokehGraph:\n",
    "\n",
    "    WIDTH = 1400\n",
    "    HEIGHT = 600\n",
    "\n",
    "    def __init__(self):\n",
    "        self.figure = figure(width=self.WIDTH , height=self.HEIGHT, x_axis_type=\"datetime\")\n",
    "        self.figure.add_tools(HoverTool(\n",
    "            tooltips=[\n",
    "                ('symbol', '$name'),\n",
    "                ('date', '@x{%F}'),\n",
    "                ('value', '@y{0.0000}'),\n",
    "            ],\n",
    "            formatters={\n",
    "                '@x': 'datetime',\n",
    "            },\n",
    "            mode='vline'\n",
    "        ))\n",
    "\n",
    "    def add_line(self, x, y, legend_label, name):\n",
    "        source = ColumnDataSource(data=dict(x=x, y=y))\n",
    "        self.figure.line(x=\"x\", y=\"y\", source=source, line_width=2, legend_label=legend_label, color=next(colors), name=name)\n",
    "\n",
    "    def show(self):\n",
    "        # Hide lines on click\n",
    "        self.figure.legend.click_policy = \"hide\"\n",
    "        show(self.figure)"
   ]
  },
  {
   "attachments": {},
   "cell_type": "markdown",
   "metadata": {},
   "source": [
    "### Bot performance"
   ]
  },
  {
   "cell_type": "code",
   "execution_count": 10,
   "metadata": {},
   "outputs": [
    {
     "name": "stdout",
     "output_type": "stream",
     "text": [
      "1\n"
     ]
    }
   ],
   "source": [
    "# Number of active bots\n",
    "with Session(ENGINE) as session:\n",
    "    bots = DataService().get_active_bots(session)\n",
    "    print(len(bots))"
   ]
  },
  {
   "attachments": {},
   "cell_type": "markdown",
   "metadata": {},
   "source": [
    "##### Show profitable bots"
   ]
  },
  {
   "cell_type": "code",
   "execution_count": 16,
   "metadata": {},
   "outputs": [
    {
     "name": "stdout",
     "output_type": "stream",
     "text": [
      "User Id: 1 | Strategy: Bollinger Bands | Interval: 1m - P/L: 3.7841064699999833\n",
      "User Id: 23 | Strategy: Relative Strength Index | Interval: 1m - P/L: 1942.114556569999\n",
      "User Id: 24 | Strategy: Chaikin Oscillator | Interval: 1m - P/L: 578.105688319999\n",
      "User Id: 26 | Strategy: Chaikin Oscillator | Interval: 5m - P/L: 405.1770468099994\n",
      "User Id: 28 | Strategy: Chaikin Oscillator | Interval: 30m - P/L: 981.2958956699995\n",
      "User Id: 32 | Strategy: Commodity Channel Index | Interval: 1m - P/L: 801.0754232500003\n",
      "User Id: 33 | Strategy: Commodity Channel Index | Interval: 5m - P/L: 976.9868413900003\n",
      "User Id: 35 | Strategy: Commodity Channel Index | Interval: 30m - P/L: 827.8116922400004\n",
      "User Id: 36 | Strategy: Commodity Channel Index | Interval: 1h - P/L: 1019.3423543099989\n",
      "User Id: 37 | Strategy: Commodity Channel Index | Interval: 2h - P/L: 125.2463946099997\n",
      "User Id: 44 | Strategy: Chaikin Oscillator | Interval: 15m - P/L: 186.03620545000012\n",
      "User Id: 45 | Strategy: Chaikin Oscillator | Interval: 30m - P/L: 25720.660454839992\n",
      "User Id: 46 | Strategy: Relative Strength Index | Interval: 1m - P/L: 369816.62029591994\n",
      "User Id: 47 | Strategy: Relative Strength Index | Interval: 1m - P/L: 5368.07221661\n"
     ]
    }
   ],
   "source": [
    "from src.service import DataService\n",
    "from cryptolib.model import CurrencyPairConfigModel, OrderModel\n",
    "from cryptolib.enums import OrderSide\n",
    "\n",
    "with Session(ENGINE) as session:\n",
    "    users = DataService().get_users(session)\n",
    "    for user in users:\n",
    "        bots = user.currency_pair_configs\n",
    "        profit = 0\n",
    "        for bot in bots:\n",
    "            orders = bot.orders\n",
    "            if len(orders) == 0:\n",
    "                continue\n",
    "\n",
    "            latest_order: OrderModel = orders[-1]            \n",
    "            if latest_order.side.value == OrderSide.BUY.value:\n",
    "                profit += latest_order.cost - bot.allocated_balance\n",
    "            else:\n",
    "                profit += latest_order.amount - bot.allocated_balance\n",
    "        \n",
    "        print(f\"User Id: {user.id} | Strategy: {bots[0].strategy.value} | Interval: {bots[0].interval.value} - P/L: {profit}\") if profit > 0 else None"
   ]
  },
  {
   "attachments": {},
   "cell_type": "markdown",
   "metadata": {},
   "source": [
    "**For a particular user**"
   ]
  },
  {
   "cell_type": "code",
   "execution_count": 18,
   "metadata": {},
   "outputs": [
    {
     "name": "stdout",
     "output_type": "stream",
     "text": [
      "=====================================\n",
      "User: bot47@admin.com\n",
      "orders: 486\n",
      "Bot: 943 - AXSUSDT - Relative Strength Index (1) - 1m - avg: 5755.527377477369\n",
      "orders: 556\n",
      "Bot: 942 - MINAUSDT - Relative Strength Index (1) - 1m - avg: 6041.970220635894\n",
      "orders: 429\n",
      "Bot: 944 - TRUUSDT - Relative Strength Index (1) - 1m - avg: 5888.857883935163\n",
      "fee_sum: 1471\n"
     ]
    },
    {
     "data": {
      "text/html": [
       "\n",
       "  <div class=\"bk-root\" id=\"af6e834a-3f72-47d1-97da-9dff7f93dac3\" data-root-id=\"1300\"></div>\n"
      ]
     },
     "metadata": {},
     "output_type": "display_data"
    },
    {
     "data": {
      "application/javascript": "(function(root) {\n  function embed_document(root) {\n  const docs_json = {\"28da270a-deef-4a98-9fb5-5935330695f5\":{\"defs\":[],\"roots\":{\"references\":[{\"attributes\":{\"below\":[{\"id\":\"1309\"}],\"center\":[{\"id\":\"1312\"},{\"id\":\"1316\"},{\"id\":\"1363\"}],\"left\":[{\"id\":\"1313\"}],\"renderers\":[{\"id\":\"1338\"},{\"id\":\"1370\"},{\"id\":\"1403\"}],\"title\":{\"id\":\"1340\"},\"toolbar\":{\"id\":\"1324\"},\"width\":1400,\"x_range\":{\"id\":\"1301\"},\"x_scale\":{\"id\":\"1305\"},\"y_range\":{\"id\":\"1303\"},\"y_scale\":{\"id\":\"1307\"}},\"id\":\"1300\",\"subtype\":\"Figure\",\"type\":\"Plot\"},{\"attributes\":{\"data\":{\"x\":[1684080872000.0,1684081233000.0,1684082312000.0,1684084479000.0,1684084951000.0,1684086454000.0,1684088135000.0,1684089455000.0,1684090178000.0,1684091137000.0,1684093298000.0,1684094017000.0,1684095397000.0,1684096235000.0,1684097435000.0,1684099536000.0,1684100136000.0,1684101697000.0,1684103019000.0,1684104215000.0,1684104935000.0,1684105715000.0,1684107156000.0,1684107877000.0,1684111117000.0,1684112017000.0,1684112376000.0,1684113996000.0,1684115258000.0,1684115977000.0,1684117238000.0,1684118736000.0,1684119515000.0,1684121194000.0,1684121496000.0,1684122577000.0,1684122936000.0,1684123356000.0,1684123656000.0,1684125396000.0,1684126058000.0,1684126297000.0,1684127197000.0,1684127860000.0,1684130859000.0,1684132960000.0,1684133917000.0,1684134398000.0,1684135062000.0,1684135837000.0,1684136677000.0,1684138116000.0,1684139797000.0,1684140579000.0,1684141118000.0,1684142076000.0,1684143338000.0,1684144066000.0,1684144298000.0,1684145258000.0,1684146101000.0,1684146998000.0,1684147899000.0,1684159906000.0,1684160984000.0,1684161586000.0,1684161946000.0,1684162545000.0,1684163156000.0,1684163685000.0,1684164405000.0,1684165724000.0,1684166986000.0,1684167826000.0,1684168249000.0,1684169021000.0,1684169742000.0,1684170344000.0,1684171786000.0,1684172386000.0,1684172926000.0,1684174185000.0,1684175746000.0,1684176179000.0,1684177185000.0,1684178506000.0,1684178864000.0,1684180425000.0,1684181760000.0,1684182766000.0,1684183191000.0,1684183846000.0,1684185349000.0,1684186546000.0,1684187206000.0,1684188467000.0,1684188895000.0,1684189606000.0,1684190748000.0,1684191837000.0,1684193091000.0,1684193987000.0,1684195128000.0,1684195730000.0,1684196511000.0,1684197769000.0,1684198907000.0,1684200227000.0,1684201549000.0,1684202147000.0,1684203107000.0,1684204369000.0,1684205988000.0,1684206888000.0,1684208087000.0,1684210428000.0,1684211991000.0,1684212648000.0,1684215467000.0,1684216007000.0,1684216668000.0,1684217268000.0,1684217508000.0,1684217989000.0,1684220329000.0,1684220990000.0,1684221948000.0,1684223689000.0,1684224229000.0,1684226088000.0,1684226748000.0,1684228190000.0,1684229631000.0,1684231669000.0,1684232149000.0,1684232510000.0,1684233949000.0,1684234789000.0,1684235269000.0,1684236410000.0,1684237561000.0,1684237909000.0,1684238149000.0,1684239349000.0,1684240489000.0,1684241210000.0,1684242829000.0,1684243430000.0,1684243910000.0,1684244930000.0,1684245708000.0,1684247149000.0,1684247690000.0,1684248469000.0,1684249609000.0,1684250329000.0,1684251530000.0,1684252250000.0,1684253329000.0,1684253930000.0,1684254771000.0,1684255430000.0,1684256090000.0,1684256571000.0,1684256811000.0,1684258249000.0,1684259930000.0,1684260592000.0,1684261670000.0,1684262750000.0,1684264070000.0,1684264670000.0,1684265931000.0,1684266891000.0,1684267372000.0,1684268991000.0,1684269710000.0,1684270552000.0,1684270854000.0,1684272590000.0,1684273071000.0,1684273610000.0,1684274453000.0,1684274759000.0,1684275471000.0,1684276373000.0,1684277750000.0,1684277991000.0,1684279372000.0,1684280992000.0,1684281234000.0,1684281891000.0,1684284413000.0,1684284830000.0,1684285431000.0,1684286331000.0,1684286932000.0,1684287893000.0,1684289032000.0,1684289812000.0,1684290591000.0,1684291252000.0,1684291974000.0,1684292631000.0,1684293652000.0,1684293894000.0,1684295511000.0,1684296291000.0,1684296532000.0,1684297132000.0,1684297790000.0,1684298091000.0,1684299053000.0,1684299832000.0,1684300434000.0,1684301391000.0,1684302293000.0,1684304752000.0,1684305414000.0,1684305773000.0,1684306073000.0,1684307334000.0,1684307695000.0,1684308712000.0,1684309792000.0,1684310214000.0,1684311232000.0,1684312375000.0,1684313092000.0,1684313513000.0,1684314473000.0,1684314832000.0,1684316694000.0,1684317234000.0,1684317712000.0,1684318614000.0,1684319093000.0,1684319814000.0,1684320113000.0,1684321133000.0,1684322273000.0,1684322873000.0,1684323353000.0],\"y\":[5000.0,5007.38552435,5014.78195788,5029.59667565,5051.85152821,5059.29166298,5059.29166296,5059.29166294,5066.75374502,5059.29166292,5074.25998147,5074.25998145,5081.76628319,5074.24887747,5089.28368896,5096.8233685,5104.38542096,5111.95869308,5119.55447121,5134.76860041,5149.9827296,5165.21936487,5165.21936485,5172.8602219,5188.1645421,5180.55726268,5195.83914254,5203.49133568,5211.16610164,5218.82958118,5203.50262205,5203.50262207,5180.34163117,5211.17699806,5218.85178006,5249.59612043,5264.96829062,5257.28220553,5264.96829062,5272.67688258,5280.39676089,5280.3967609,5272.6655797,5280.40811359,5288.15064748,5295.90453407,5303.66979001,5303.66978999,5311.45785134,5319.25734895,5334.8792501,5334.87925009,5342.70165368,5358.30078258,5373.94545641,5389.63580813,5389.63580813,5397.49242009,5413.25152202,5436.89017496,5444.79263164,5452.70657439,5460.62051717,5420.99337266,5428.93040545,5436.87905905,5444.82771264,5452.78798708,5460.75989933,5452.78798707,5460.77157125,5476.73873959,5468.73181164,5468.73181164,5484.81631698,5492.85856965,5508.96665927,5517.00894635,5525.07474887,5533.14055143,5541.21812885,5541.21812887,5549.3074984,5565.53354373,5581.83086008,5589.99143154,5589.99143155,5598.15200297,5606.32448767,5606.32448765,5614.53286905,5630.97366805,5630.97366802,5622.74125037,5630.985739,5639.24231632,5639.24231632,5647.51100009,5655.79180799,5647.49885813,5655.77964827,5664.07258031,5664.07258032,5672.36551235,5680.67058631,5697.30505361,5688.97566024,5697.29287609,5680.63412496,5697.3418724,5697.34187241,5697.34187241,5680.60959084,5680.60959084,5638.71718974,5647.10813793,5655.46184819,5663.84031017,5663.84031017,5672.21877217,5680.60962831,5689.01289697,5697.44106424,5705.88171767,5722.7880339,5739.71935942,5756.67569434,5748.18502219,5756.68825444,5756.68825443,5765.20406548,5782.26088225,5790.78929063,5816.33689046,5824.87776693,5824.87776693,5824.87776693,5824.87776696,5833.44376366,5833.44376366,5833.44376366,5842.02235744,5850.61356681,5850.61356681,5841.99705196,5850.62629425,5850.62629425,5867.91027149,5867.91027149,5885.2453092,5893.925612,5902.61871761,5902.6187176,5902.6187176,5920.03057223,5928.76218073,5937.51958425,5946.27698777,5946.27698774,5937.49371302,5937.49371302,5937.49371302,5946.29000003,5955.09931857,5981.56642662,5981.56642663,5990.40182756,6008.07262941,6008.07262941,6016.93409348,6025.82173616,6034.68323873,6034.68323876,6043.58395148,6061.35919842,6052.47157497,6061.385377,6070.31230684,6079.2392367,6079.23923668,6079.23923669,6088.20566622,6070.2463575,6079.23931509,6088.24559556,6097.25187602,6115.29108276,6124.33737137,6142.4567127,6151.51638337,6160.56273099,6178.68203315,6178.68203316,6187.76833028,6205.96764887,6215.08067037,6233.33347705,6242.47326223,6251.62644882,6260.7930565,6260.79305647,6279.20715373,6270.02702629,6279.14043765,6270.05340377,6288.25384908,6288.2538491,6270.15815458,6279.20600184,6288.25384911,6297.28869663,6315.41039071,6315.41039073,6315.41039071,6333.58423357,6351.75807642,6369.95795632,6360.88394214,6388.06720687,6397.15407345,6406.25386586,6397.15407344,6397.15407344,6397.15407345,6397.15407345,6406.34538676,6424.78091304,6433.99867619,6443.24292714,6452.51378029,6461.79797276,6434.10455289,6434.10455289,6434.10455286,6443.38897501,6424.7664635,6434.10478684,6443.45668333,6452.79502634,6471.5259263,6621.15658358,6755.76713672,6544.91298137]},\"selected\":{\"id\":\"1349\"},\"selection_policy\":{\"id\":\"1348\"}},\"id\":\"1333\",\"type\":\"ColumnDataSource\"},{\"attributes\":{\"overlay\":{\"id\":\"1323\"}},\"id\":\"1319\",\"type\":\"BoxZoomTool\"},{\"attributes\":{\"callback\":null,\"formatters\":{\"@x\":\"datetime\"},\"mode\":\"vline\",\"tooltips\":[[\"symbol\",\"$name\"],[\"date\",\"@x{%F}\"],[\"value\",\"@y{0.0000}\"]]},\"id\":\"1331\",\"type\":\"HoverTool\"},{\"attributes\":{},\"id\":\"1321\",\"type\":\"ResetTool\"},{\"attributes\":{},\"id\":\"1362\",\"type\":\"YearsTicker\"},{\"attributes\":{},\"id\":\"1317\",\"type\":\"PanTool\"},{\"attributes\":{\"days\":[1,15]},\"id\":\"1357\",\"type\":\"DaysTicker\"},{\"attributes\":{\"line_color\":\"#e7298a\",\"line_width\":2,\"x\":{\"field\":\"x\"},\"y\":{\"field\":\"y\"}},\"id\":\"1335\",\"type\":\"Line\"},{\"attributes\":{\"days\":[1,8,15,22]},\"id\":\"1356\",\"type\":\"DaysTicker\"},{\"attributes\":{\"months\":[0,1,2,3,4,5,6,7,8,9,10,11]},\"id\":\"1358\",\"type\":\"MonthsTicker\"},{\"attributes\":{},\"id\":\"1307\",\"type\":\"LinearScale\"},{\"attributes\":{\"line_alpha\":0.1,\"line_color\":\"#1b9e77\",\"line_width\":2,\"x\":{\"field\":\"x\"},\"y\":{\"field\":\"y\"}},\"id\":\"1401\",\"type\":\"Line\"},{\"attributes\":{\"line_alpha\":0.1,\"line_color\":\"#66a61e\",\"line_width\":2,\"x\":{\"field\":\"x\"},\"y\":{\"field\":\"y\"}},\"id\":\"1368\",\"type\":\"Line\"},{\"attributes\":{},\"id\":\"1320\",\"type\":\"SaveTool\"},{\"attributes\":{},\"id\":\"1383\",\"type\":\"Selection\"},{\"attributes\":{\"line_color\":\"#66a61e\",\"line_width\":2,\"x\":{\"field\":\"x\"},\"y\":{\"field\":\"y\"}},\"id\":\"1367\",\"type\":\"Line\"},{\"attributes\":{\"coordinates\":null,\"formatter\":{\"id\":\"1343\"},\"group\":null,\"major_label_policy\":{\"id\":\"1344\"},\"ticker\":{\"id\":\"1314\"}},\"id\":\"1313\",\"type\":\"LinearAxis\"},{\"attributes\":{\"months\":[0,6]},\"id\":\"1361\",\"type\":\"MonthsTicker\"},{\"attributes\":{\"line_alpha\":0.1,\"line_color\":\"#e7298a\",\"line_width\":2,\"x\":{\"field\":\"x\"},\"y\":{\"field\":\"y\"}},\"id\":\"1336\",\"type\":\"Line\"},{\"attributes\":{\"data\":{\"x\":[1684080933000.0,1684081895000.0,1684083465000.0,1684083874000.0,1684084358000.0,1684084951000.0,1684086409000.0,1684086872000.0,1684087352000.0,1684088014000.0,1684088912000.0,1684089214000.0,1684089512000.0,1684090178000.0,1684091912000.0,1684092515000.0,1684093658000.0,1684096235000.0,1684097314000.0,1684097857000.0,1684098635000.0,1684099234000.0,1684100136000.0,1684101335000.0,1684102837000.0,1684103857000.0,1684104335000.0,1684106074000.0,1684108057000.0,1684108418000.0,1684109495000.0,1684110217000.0,1684111956000.0,1684112376000.0,1684113276000.0,1684113996000.0,1684114477000.0,1684115137000.0,1684115618000.0,1684116397000.0,1684117238000.0,1684118076000.0,1684118915000.0,1684120237000.0,1684120596000.0,1684121555000.0,1684122156000.0,1684122756000.0,1684123177000.0,1684123956000.0,1684124496000.0,1684124915000.0,1684125276000.0,1684125698000.0,1684126777000.0,1684127918000.0,1684128580000.0,1684130678000.0,1684131099000.0,1684133079000.0,1684134038000.0,1684134518000.0,1684136377000.0,1684137757000.0,1684140518000.0,1684141060000.0,1684141357000.0,1684141597000.0,1684143517000.0,1684144179000.0,1684144597000.0,1684145258000.0,1684145620000.0,1684145928000.0,1684146339000.0,1684146817000.0,1684147477000.0,1684148318000.0,1684148857000.0,1684159442000.0,1684160685000.0,1684161826000.0,1684162545000.0,1684163865000.0,1684164467000.0,1684164824000.0,1684165185000.0,1684166504000.0,1684168006000.0,1684168362000.0,1684169205000.0,1684169566000.0,1684170225000.0,1684171006000.0,1684171427000.0,1684172386000.0,1684173166000.0,1684173466000.0,1684174317000.0,1684174845000.0,1684175685000.0,1684176466000.0,1684176705000.0,1684177606000.0,1684177965000.0,1684178205000.0,1684178684000.0,1684179287000.0,1684179767000.0,1684180006000.0,1684181807000.0,1684182046000.0,1684182585000.0,1684183068000.0,1684184570000.0,1684185887000.0,1684186368000.0,1684187266000.0,1684187686000.0,1684188167000.0,1684189546000.0,1684190086000.0,1684192609000.0,1684193507000.0,1684193809000.0,1684195249000.0,1684195488000.0,1684195968000.0,1684197048000.0,1684199987000.0,1684201008000.0,1684201847000.0,1684202268000.0,1684202628000.0,1684203170000.0,1684204009000.0,1684205088000.0,1684206768000.0,1684207066000.0,1684207547000.0,1684209048000.0,1684209658000.0,1684210188000.0,1684210668000.0,1684210909000.0,1684211521000.0,1684211870000.0,1684213380000.0,1684213970000.0,1684215048000.0,1684215528000.0,1684216488000.0,1684217208000.0,1684218708000.0,1684218957000.0,1684219669000.0,1684220930000.0,1684221888000.0,1684222369000.0,1684223268000.0,1684224109000.0,1684224893000.0,1684225251000.0,1684226088000.0,1684228008000.0,1684228610000.0,1684229090000.0,1684229450000.0,1684230049000.0,1684230408000.0,1684231128000.0,1684232029000.0,1684232748000.0,1684233470000.0,1684234609000.0,1684235029000.0,1684236469000.0,1684237492000.0,1684237970000.0,1684238569000.0,1684239529000.0,1684240369000.0,1684240910000.0,1684242889000.0,1684243669000.0,1684244571000.0,1684246069000.0,1684246428000.0,1684246858000.0,1684247570000.0,1684247868000.0,1684248290000.0,1684249129000.0,1684250329000.0,1684251229000.0,1684252131000.0,1684252672000.0,1684253450000.0,1684253689000.0,1684254050000.0,1684255130000.0,1684255850000.0,1684256512000.0,1684256989000.0,1684258249000.0,1684258790000.0,1684260170000.0,1684260651000.0,1684261670000.0,1684262090000.0,1684262750000.0,1684263651000.0,1684265211000.0,1684266530000.0,1684267671000.0,1684268153000.0,1684268810000.0,1684271152000.0,1684272410000.0,1684272898000.0,1684273789000.0,1684275112000.0,1684275713000.0,1684277333000.0,1684277870000.0,1684279791000.0,1684281531000.0,1684282012000.0,1684282612000.0,1684283212000.0,1684284592000.0,1684285014000.0,1684285551000.0,1684286992000.0,1684287471000.0,1684288135000.0,1684289031000.0,1684289753000.0,1684290712000.0,1684291311000.0,1684292332000.0,1684293358000.0,1684295811000.0,1684296470000.0,1684297132000.0,1684299172000.0,1684299472000.0,1684300253000.0,1684300673000.0,1684301632000.0,1684303191000.0,1684303552000.0,1684303792000.0,1684304393000.0,1684304873000.0,1684305893000.0,1684306434000.0,1684307695000.0,1684308472000.0,1684309792000.0,1684310453000.0,1684310872000.0,1684311231000.0,1684311714000.0,1684312434000.0,1684312792000.0,1684313513000.0,1684313933000.0,1684314712000.0,1684316274000.0,1684317234000.0,1684319034000.0,1684320114000.0,1684321133000.0,1684322097000.0,1684322514000.0,1684323353000.0,1684323594000.0],\"y\":[5000.0,4991.10320284,5008.92857142,5026.7222786,5035.65073735,5053.47604969,5026.73808117,5035.63496273,5044.56339351,5044.56339351,5035.63496272,5044.57925217,5053.53942846,5053.53942846,5026.56323934,5035.55530238,5044.54736542,5044.54736542,5062.59583542,5062.59583542,5080.74134021,5080.74134021,5080.74134021,5080.74134021,5108.20480691,5117.37573116,5135.75050937,5144.95436333,5154.17471165,5163.42816715,5172.68162264,5181.91855411,5200.39241705,5209.66227876,5191.05634205,5218.96524712,5228.3014998,5228.3014998,5218.98188928,5228.3014998,5209.66227877,5219.03217496,5219.03217496,5200.1226381,5218.99785639,5237.90726892,5247.29419951,5247.29419951,5266.03453594,5275.40470416,5266.00113071,5275.4215263,5294.26231747,5303.6995052,5313.13669293,5322.62443703,5332.11218113,5341.59992523,5341.59992523,5351.13849652,5360.64318302,5360.64318302,5360.64318302,5370.19869671,5389.3097241,5417.92552794,5427.48095215,5437.03637636,5437.03637636,5437.03637636,5456.24851904,5485.11755882,5494.75748423,5485.10061695,5494.77451575,5523.79621213,5533.47011092,5543.17795322,5543.17795322,5552.88579552,5552.88579552,5562.71391197,5572.54202842,5592.19826132,5602.06104485,5611.97619714,5641.77430084,5631.8415996,5631.8415996,5641.80946084,5671.81908563,5691.86084918,5671.92438386,5691.86084918,5701.82908184,5711.7973145,5731.73377982,5731.73377982,5721.73075402,5751.7398314,5751.7398314,5761.83060304,5782.01214631,5792.12055915,5802.22897199,5822.4810801,5812.35502605,5802.19356621,5812.35502604,5812.35502604,5832.7492542,5853.17919905,5863.41202982,5863.41202982,5863.41202982,5863.41202982,5853.10726351,5842.8024972,5853.10726351,5853.10726351,5863.41202982,5873.73493832,5873.73493832,5884.0942592,5904.81290096,5915.17222184,5925.56795509,5935.98195853,5946.41426426,5925.54965281,5936.01882181,5925.53115605,5946.54367788,5957.10592242,5967.68692761,5978.2679328,5957.10592242,5946.50608982,5957.1248507,5978.4002966,5967.66708242,5989.13351077,5999.86672495,6010.59993913,6021.35235405,6032.14330809,6042.95360076,6042.95360076,6042.95360076,6053.74458934,6064.53557791,6086.1560256,6107.85355154,6107.85355154,6118.74099103,6140.5546844,6151.48093829,6173.29470048,6184.24025846,6195.22469942,6206.22865093,6195.22469942,6217.31106199,6228.35424327,6217.2914471,6228.33459354,6261.40539669,6272.48753014,6294.69102582,6305.81238806,6305.81238806,6328.09441064,6361.57639165,6372.77635008,6384.01581454,6406.57417431,6406.57417431,6406.57417431,6406.57417431,6417.89320996,6406.59410219,6406.59410219,6406.59410219,6395.25499759,6406.5941022,6417.9533116,6417.9533116,6440.7930031,6452.23313277,6452.23313277,6463.69358239,6486.73705327,6509.78052415,6521.34318938,6532.92639221,6544.50959503,6532.92639221,6556.17524058,6579.59015215,6591.29760793,6603.02589549,6614.69201898,6626.378754,6649.79351992,6649.79351992,6649.79351992,6661.50090288,6673.18774657,6673.18774657,6684.8950935,6684.8950935,6708.30978735,6614.32296021,6626.0713136,6661.31637378,6673.10631427,6696.76981184,6708.62250177,6720.49616992,6732.41194327,6732.41194327,6708.49573743,6732.45465078,6732.45465078,6732.45465078,6744.45546121,6768.37196994,6792.33080877,6804.33139324,6804.33139324,6816.37445765,6828.43883722,6840.52456968,6840.52456968,6852.63169281,6864.73881594,6876.88879614,6864.71731155,6852.54582696,6889.19045705,6889.19045705,6901.36217164,6901.36217164,6913.36454064,6913.36454064,6913.36454064,6925.38778332,6925.38778332,6949.56016651,6949.56016651,6961.66741419,6973.79575463,6985.94522458,6998.11586086,7022.49953982,7034.7125825,7046.92562518,7022.41457953,7022.41457953,7010.13763096,6997.83914389,6997.83914389,7010.15928323,7022.50111296,7022.50111296,7034.84294269,7047.18477242,7047.18477242,7059.56998291,7059.56998291,7009.94207442,6997.5350973,7022.43735743,7034.84449057,7059.74659496,7171.60877692,7184.12467356,7196.68433208]},\"selected\":{\"id\":\"1383\"},\"selection_policy\":{\"id\":\"1382\"}},\"id\":\"1365\",\"type\":\"ColumnDataSource\"},{\"attributes\":{\"num_minor_ticks\":5,\"tickers\":[{\"id\":\"1351\"},{\"id\":\"1352\"},{\"id\":\"1353\"},{\"id\":\"1354\"},{\"id\":\"1355\"},{\"id\":\"1356\"},{\"id\":\"1357\"},{\"id\":\"1358\"},{\"id\":\"1359\"},{\"id\":\"1360\"},{\"id\":\"1361\"},{\"id\":\"1362\"}]},\"id\":\"1310\",\"type\":\"DatetimeTicker\"},{\"attributes\":{\"line_alpha\":0.2,\"line_color\":\"#e7298a\",\"line_width\":2,\"x\":{\"field\":\"x\"},\"y\":{\"field\":\"y\"}},\"id\":\"1337\",\"type\":\"Line\"},{\"attributes\":{\"source\":{\"id\":\"1398\"}},\"id\":\"1404\",\"type\":\"CDSView\"},{\"attributes\":{\"months\":[0,2,4,6,8,10]},\"id\":\"1359\",\"type\":\"MonthsTicker\"},{\"attributes\":{},\"id\":\"1348\",\"type\":\"UnionRenderers\"},{\"attributes\":{\"axis\":{\"id\":\"1309\"},\"coordinates\":null,\"group\":null,\"ticker\":null},\"id\":\"1312\",\"type\":\"Grid\"},{\"attributes\":{\"axis\":{\"id\":\"1313\"},\"coordinates\":null,\"dimension\":1,\"group\":null,\"ticker\":null},\"id\":\"1316\",\"type\":\"Grid\"},{\"attributes\":{},\"id\":\"1303\",\"type\":\"DataRange1d\"},{\"attributes\":{\"coordinates\":null,\"data_source\":{\"id\":\"1365\"},\"glyph\":{\"id\":\"1367\"},\"group\":null,\"hover_glyph\":null,\"muted_glyph\":{\"id\":\"1369\"},\"name\":\"MINAUSDT\",\"nonselection_glyph\":{\"id\":\"1368\"},\"view\":{\"id\":\"1371\"}},\"id\":\"1370\",\"type\":\"GlyphRenderer\"},{\"attributes\":{},\"id\":\"1314\",\"type\":\"BasicTicker\"},{\"attributes\":{\"months\":[0,4,8]},\"id\":\"1360\",\"type\":\"MonthsTicker\"},{\"attributes\":{\"coordinates\":null,\"data_source\":{\"id\":\"1398\"},\"glyph\":{\"id\":\"1400\"},\"group\":null,\"hover_glyph\":null,\"muted_glyph\":{\"id\":\"1402\"},\"name\":\"TRUUSDT\",\"nonselection_glyph\":{\"id\":\"1401\"},\"view\":{\"id\":\"1404\"}},\"id\":\"1403\",\"type\":\"GlyphRenderer\"},{\"attributes\":{\"tools\":[{\"id\":\"1317\"},{\"id\":\"1318\"},{\"id\":\"1319\"},{\"id\":\"1320\"},{\"id\":\"1321\"},{\"id\":\"1322\"},{\"id\":\"1331\"}]},\"id\":\"1324\",\"type\":\"Toolbar\"},{\"attributes\":{\"coordinates\":null,\"formatter\":{\"id\":\"1346\"},\"group\":null,\"major_label_policy\":{\"id\":\"1347\"},\"ticker\":{\"id\":\"1310\"}},\"id\":\"1309\",\"type\":\"DatetimeAxis\"},{\"attributes\":{\"coordinates\":null,\"data_source\":{\"id\":\"1333\"},\"glyph\":{\"id\":\"1335\"},\"group\":null,\"hover_glyph\":null,\"muted_glyph\":{\"id\":\"1337\"},\"name\":\"AXSUSDT\",\"nonselection_glyph\":{\"id\":\"1336\"},\"view\":{\"id\":\"1339\"}},\"id\":\"1338\",\"type\":\"GlyphRenderer\"},{\"attributes\":{},\"id\":\"1349\",\"type\":\"Selection\"},{\"attributes\":{\"coordinates\":null,\"group\":null},\"id\":\"1340\",\"type\":\"Title\"},{\"attributes\":{},\"id\":\"1322\",\"type\":\"HelpTool\"},{\"attributes\":{\"click_policy\":\"hide\",\"coordinates\":null,\"group\":null,\"items\":[{\"id\":\"1364\"},{\"id\":\"1397\"},{\"id\":\"1432\"}]},\"id\":\"1363\",\"type\":\"Legend\"},{\"attributes\":{},\"id\":\"1343\",\"type\":\"BasicTickFormatter\"},{\"attributes\":{\"data\":{\"x\":[1684081112000.0,1684082312000.0,1684083033000.0,1684083465000.0,1684084951000.0,1684085614000.0,1684086213000.0,1684086872000.0,1684087352000.0,1684088672000.0,1684089455000.0,1684089753000.0,1684090418000.0,1684091613000.0,1684092936000.0,1684094555000.0,1684096355000.0,1684097975000.0,1684098755000.0,1684099835000.0,1684101217000.0,1684101876000.0,1684102837000.0,1684103736000.0,1684105415000.0,1684106376000.0,1684108537000.0,1684108956000.0,1684110876000.0,1684111896000.0,1684113216000.0,1684113576000.0,1684114117000.0,1684114658000.0,1684115617000.0,1684116397000.0,1684118197000.0,1684118616000.0,1684118915000.0,1684119635000.0,1684122937000.0,1684123604000.0,1684123956000.0,1684125816000.0,1684126058000.0,1684128099000.0,1684130499000.0,1684131577000.0,1684134039000.0,1684134701000.0,1684136377000.0,1684137816000.0,1684139557000.0,1684140218000.0,1684141238000.0,1684142317000.0,1684142558000.0,1684142978000.0,1684144598000.0,1684145438000.0,1684145980000.0,1684146516000.0,1684147597000.0,1684148020000.0,1684148557000.0,1684148798000.0,1684160147000.0,1684161645000.0,1684162066000.0,1684162604000.0,1684163325000.0,1684165618000.0,1684166146000.0,1684166877000.0,1684169205000.0,1684170465000.0,1684171248000.0,1684172085000.0,1684173342000.0,1684173705000.0,1684173945000.0,1684174186000.0,1684174846000.0,1684175745000.0,1684176179000.0,1684178626000.0,1684180006000.0,1684180486000.0,1684180966000.0,1684181807000.0,1684183192000.0,1684184212000.0,1684184928000.0,1684186726000.0,1684187986000.0,1684188407000.0,1684189487000.0,1684190748000.0,1684192852000.0,1684193987000.0,1684195368000.0,1684196809000.0,1684197768000.0,1684198667000.0,1684201248000.0,1684202449000.0,1684203349000.0,1684204370000.0,1684205458000.0,1684205868000.0,1684207128000.0,1684209709000.0,1684210788000.0,1684212648000.0,1684214330000.0,1684215648000.0,1684216187000.0,1684216907000.0,1684217808000.0,1684219789000.0,1684222129000.0,1684222369000.0,1684223329000.0,1684224893000.0,1684225430000.0,1684225908000.0,1684227649000.0,1684228789000.0,1684229331000.0,1684230228000.0,1684230529000.0,1684231249000.0,1684232749000.0,1684234248000.0,1684235629000.0,1684235930000.0,1684237612000.0,1684237970000.0,1684241091000.0,1684241689000.0,1684241989000.0,1684242949000.0,1684243430000.0,1684244571000.0,1684245650000.0,1684246008000.0,1684246858000.0,1684247811000.0,1684248590000.0,1684249369000.0,1684250150000.0,1684251050000.0,1684251410000.0,1684252131000.0,1684253450000.0,1684254229000.0,1684254771000.0,1684256989000.0,1684258310000.0,1684258850000.0,1684261130000.0,1684261610000.0,1684262211000.0,1684263650000.0,1684266291000.0,1684266829000.0,1684267550000.0,1684268153000.0,1684270552000.0,1684272590000.0,1684274759000.0,1684275471000.0,1684277151000.0,1684277750000.0,1684278051000.0,1684278712000.0,1684279313000.0,1684280695000.0,1684282012000.0,1684284592000.0,1684285192000.0,1684286632000.0,1684286992000.0,1684287833000.0,1684288854000.0,1684289813000.0,1684290952000.0,1684291312000.0,1684291613000.0,1684293291000.0,1684295691000.0,1684296470000.0,1684297492000.0,1684302533000.0,1684304573000.0,1684305052000.0,1684305652000.0,1684306974000.0,1684307873000.0,1684308652000.0,1684309192000.0,1684309613000.0,1684310333000.0,1684311534000.0,1684312375000.0,1684313272000.0,1684313752000.0,1684314954000.0,1684317473000.0,1684318674000.0,1684319213000.0,1684319754000.0,1684321260000.0,1684322153000.0,1684323655000.0],\"y\":[5000.0,5010.75268817,5032.30431264,5043.08012487,5053.87901165,5075.33921977,5086.1148869,5107.66622117,5118.48754791,5096.98129771,5107.73442281,5096.93582995,5107.73442281,5107.73442281,5118.64838525,5107.68768207,5096.65595921,5096.65595921,5107.75978483,5096.60747089,5096.60747089,5118.91209877,5141.3143399,5152.4911102,5152.4911102,5163.69217783,5208.69167393,5242.51434714,5253.81286944,5276.45861457,5287.8058374,5310.6473313,5322.11741193,5356.52765382,5368.04706813,5379.61613509,5344.83413422,5356.50407774,5368.22509323,5368.22509323,5380.02339014,5368.50299744,5380.04816518,5380.04816518,5391.61816123,5391.61816123,5403.213039,5391.61816123,5426.47776141,5438.07279936,5426.5024317,5438.07279936,5426.5024317,5449.44747369,5460.91999469,5460.91999469,5472.39251569,5483.91334204,5518.5485842,5507.02760594,5518.52453205,5518.52453205,5553.01531038,5576.05686768,5576.05686768,5576.05686768,5529.78253683,5529.78253683,5541.32696801,5576.03256489,5587.6492994,5587.6492994,5564.31882216,5564.31882216,5552.60446675,5564.31882216,5587.79696065,5599.56074373,5634.92639053,5646.7396534,5634.95105287,5658.52825393,5682.1546767,5694.01721256,5717.74228428,5729.67911577,5729.67911577,5741.64086758,5753.60261939,5753.60261939,5729.67911578,5753.65266857,5765.71483349,5765.71483349,5765.71483349,5802.20669952,5802.20669952,5814.42187152,5826.66275967,5838.90364782,5838.90364782,5838.90364782,5851.17025212,5851.17025212,5851.17025212,5851.17025212,5875.96334641,5888.35989355,5875.96334641,5900.80885739,5900.80885739,5837.9004474,5850.40130489,5862.82253908,5850.42756542,5850.42756542,5875.27014532,5900.21821388,5900.21821388,5937.95948177,5975.78087974,6001.04845217,6001.04845217,6013.76253787,6026.55777731,6039.35301675,6052.14825619,6064.94349563,6077.65826187,6090.37302811,6115.80256059,6128.51732683,6141.25852709,6128.51732683,6128.51732683,6154.05281569,6166.84710429,6179.69470242,6153.94597449,6192.73134828,6205.71401358,6218.72389621,6257.67206257,6270.70887937,6270.70887937,6270.70887937,6296.89137991,6310.00990362,6296.86404965,6309.9552431,6309.9552431,6309.9552431,6336.24672328,6336.24672328,6309.9552431,6323.12842732,6336.30161154,6309.90035483,6309.90035483,6323.10098319,6336.32922792,6349.58514681,6376.15244868,6389.46383166,6362.84106569,6376.09698458,6402.66405535,6402.66405535,6402.66405535,6376.04175159,6362.70275211,6376.0697747,6402.74789091,6416.08694902,6416.08694902,6416.08694902,6429.45379683,6442.82064464,6456.15981782,6442.84814809,6469.47148755,6469.47148755,6496.2048408,6523.04866246,6536.49824733,6509.54361538,6469.02778375,6496.03833817,6496.03833817,6536.80845326,6536.80845326,6550.23105789,6577.13139078,6563.62598751,6590.58133037,6604.11435158,6631.180394,6644.7410901,6658.35736283,6672.02955454,6658.32928851,6685.8430459,6699.62828929,6685.81462271,6672.00095613,6685.81462271,6699.65688901,6713.52781425,6644.3161873,6616.51570116,6644.37471464,6658.36287193,6672.38047798,6672.38047798,6714.43329612]},\"selected\":{\"id\":\"1418\"},\"selection_policy\":{\"id\":\"1417\"}},\"id\":\"1398\",\"type\":\"ColumnDataSource\"},{\"attributes\":{},\"id\":\"1382\",\"type\":\"UnionRenderers\"},{\"attributes\":{},\"id\":\"1305\",\"type\":\"LinearScale\"},{\"attributes\":{\"line_alpha\":0.2,\"line_color\":\"#1b9e77\",\"line_width\":2,\"x\":{\"field\":\"x\"},\"y\":{\"field\":\"y\"}},\"id\":\"1402\",\"type\":\"Line\"},{\"attributes\":{},\"id\":\"1346\",\"type\":\"DatetimeTickFormatter\"},{\"attributes\":{\"mantissas\":[1,2,5],\"max_interval\":500.0,\"num_minor_ticks\":0},\"id\":\"1351\",\"type\":\"AdaptiveTicker\"},{\"attributes\":{\"source\":{\"id\":\"1365\"}},\"id\":\"1371\",\"type\":\"CDSView\"},{\"attributes\":{},\"id\":\"1318\",\"type\":\"WheelZoomTool\"},{\"attributes\":{\"label\":{\"value\":\"Bot 0 - AXSUSDT\"},\"renderers\":[{\"id\":\"1338\"}]},\"id\":\"1364\",\"type\":\"LegendItem\"},{\"attributes\":{\"source\":{\"id\":\"1333\"}},\"id\":\"1339\",\"type\":\"CDSView\"},{\"attributes\":{\"label\":{\"value\":\"Bot 1 - MINAUSDT\"},\"renderers\":[{\"id\":\"1370\"}]},\"id\":\"1397\",\"type\":\"LegendItem\"},{\"attributes\":{},\"id\":\"1344\",\"type\":\"AllLabels\"},{\"attributes\":{},\"id\":\"1418\",\"type\":\"Selection\"},{\"attributes\":{\"line_alpha\":0.2,\"line_color\":\"#66a61e\",\"line_width\":2,\"x\":{\"field\":\"x\"},\"y\":{\"field\":\"y\"}},\"id\":\"1369\",\"type\":\"Line\"},{\"attributes\":{\"bottom_units\":\"screen\",\"coordinates\":null,\"fill_alpha\":0.5,\"fill_color\":\"lightgrey\",\"group\":null,\"left_units\":\"screen\",\"level\":\"overlay\",\"line_alpha\":1.0,\"line_color\":\"black\",\"line_dash\":[4,4],\"line_width\":2,\"right_units\":\"screen\",\"syncable\":false,\"top_units\":\"screen\"},\"id\":\"1323\",\"type\":\"BoxAnnotation\"},{\"attributes\":{},\"id\":\"1347\",\"type\":\"AllLabels\"},{\"attributes\":{\"base\":60,\"mantissas\":[1,2,5,10,15,20,30],\"max_interval\":1800000.0,\"min_interval\":1000.0,\"num_minor_ticks\":0},\"id\":\"1352\",\"type\":\"AdaptiveTicker\"},{\"attributes\":{},\"id\":\"1301\",\"type\":\"DataRange1d\"},{\"attributes\":{\"base\":24,\"mantissas\":[1,2,4,6,8,12],\"max_interval\":43200000.0,\"min_interval\":3600000.0,\"num_minor_ticks\":0},\"id\":\"1353\",\"type\":\"AdaptiveTicker\"},{\"attributes\":{\"days\":[1,4,7,10,13,16,19,22,25,28]},\"id\":\"1355\",\"type\":\"DaysTicker\"},{\"attributes\":{\"line_color\":\"#1b9e77\",\"line_width\":2,\"x\":{\"field\":\"x\"},\"y\":{\"field\":\"y\"}},\"id\":\"1400\",\"type\":\"Line\"},{\"attributes\":{\"days\":[1,2,3,4,5,6,7,8,9,10,11,12,13,14,15,16,17,18,19,20,21,22,23,24,25,26,27,28,29,30,31]},\"id\":\"1354\",\"type\":\"DaysTicker\"},{\"attributes\":{\"label\":{\"value\":\"Bot 2 - TRUUSDT\"},\"renderers\":[{\"id\":\"1403\"}]},\"id\":\"1432\",\"type\":\"LegendItem\"},{\"attributes\":{},\"id\":\"1417\",\"type\":\"UnionRenderers\"}],\"root_ids\":[\"1300\"]},\"title\":\"Bokeh Application\",\"version\":\"2.4.3\"}};\n  const render_items = [{\"docid\":\"28da270a-deef-4a98-9fb5-5935330695f5\",\"root_ids\":[\"1300\"],\"roots\":{\"1300\":\"af6e834a-3f72-47d1-97da-9dff7f93dac3\"}}];\n  root.Bokeh.embed.embed_items_notebook(docs_json, render_items);\n  }\n  if (root.Bokeh !== undefined) {\n    embed_document(root);\n  } else {\n    let attempts = 0;\n    const timer = setInterval(function(root) {\n      if (root.Bokeh !== undefined) {\n        clearInterval(timer);\n        embed_document(root);\n      } else {\n        attempts++;\n        if (attempts > 100) {\n          clearInterval(timer);\n          console.log(\"Bokeh: ERROR: Unable to run BokehJS code because BokehJS library is missing\");\n        }\n      }\n    }, 10, root)\n  }\n})(window);",
      "application/vnd.bokehjs_exec.v0+json": ""
     },
     "metadata": {
      "application/vnd.bokehjs_exec.v0+json": {
       "id": "1300"
      }
     },
     "output_type": "display_data"
    }
   ],
   "source": [
    "from cryptolib.model import CurrencyPairConfigModel, OrderModel\n",
    "from cryptolib.enums import OrderSide\n",
    "\n",
    "# The user to check\n",
    "# be mindful of how many active bots are running.\n",
    "# E.g. plotting 400 bots is pretty slow\n",
    "user_id = 47\n",
    "\n",
    "with Session(ENGINE) as session:\n",
    "    user = DataService().get_user(session, user_id)\n",
    "    bots: list[CurrencyPairConfigModel] = user.currency_pair_configs\n",
    "    \n",
    "    print(\"=====================================\")\n",
    "    print(f\"User: {user.email}\")\n",
    "    \n",
    "    # Plot the history of orders for each bot in bokeh\n",
    "    graph = BokehGraph()\n",
    "    fee = 1 # euro\n",
    "    fee_sum = 0\n",
    "    for i, bot in enumerate(bots):\n",
    "        orders: list[OrderModel] = bot.orders\n",
    "        print('orders:', len(orders))\n",
    "        x = [o.created_at for o in orders if o.side.value == OrderSide.BUY.value]\n",
    "        y = [o.cost for o in orders if o.side.value == OrderSide.BUY.value]\n",
    "\n",
    "        # calculate fees\n",
    "        fee_sum += len(orders) * fee\n",
    "               \n",
    "        divisor = len(y) if len(y) > 0 else 1\n",
    "        avg = sum(y) / divisor\n",
    "\n",
    "        # Skip plotting the losing bots\n",
    "        if avg < bot.allocated_balance:\n",
    "            # Disable the bots if desired\n",
    "            # bot.is_active = False\n",
    "            # session.commit()\n",
    "            continue\n",
    "        \n",
    "        bot_info(bot, avg=avg)\n",
    "        graph.add_line(x, y, f\"Bot {i} - {bot.currency_pair}\", name=f\"{bot.currency_pair}\")\n",
    "\n",
    "    print('fee_sum:', fee_sum)\n",
    "    graph.show()\n"
   ]
  },
  {
   "cell_type": "code",
   "execution_count": 46,
   "metadata": {},
   "outputs": [
    {
     "name": "stdout",
     "output_type": "stream",
     "text": [
      "=====================================\n",
      "User: bot47@admin.com\n",
      "orders: 473\n",
      "orders: 237\n",
      "fees: 1019.4776537920199\n",
      "orders: 544\n",
      "orders: 272\n",
      "fees: 1227.7487063334456\n",
      "orders: 421\n",
      "orders: 211\n",
      "fees: 929.5401659415382\n",
      "fee_sum: 3176.7665260670037\n"
     ]
    }
   ],
   "source": [
    "# Calculate binance trading fees\n",
    "\n",
    "# The user to check\n",
    "user_id = 47\n",
    "\n",
    "with Session(ENGINE) as session:\n",
    "    user = DataService().get_user(session, user_id)\n",
    "    bots: list[CurrencyPairConfigModel] = user.currency_pair_configs\n",
    "    \n",
    "    print(\"=====================================\")\n",
    "    print(f\"User: {user.email}\")\n",
    "    \n",
    "    fee = 0.00075\n",
    "    fee_sum = 0\n",
    "    for i, bot in enumerate(bots):\n",
    "        orders: list[OrderModel] = bot.orders\n",
    "        print('orders:', len(orders))\n",
    "        # get every second orders\n",
    "        orders = orders[::2]\n",
    "        print('orders:', len(orders))\n",
    "\n",
    "        # calculate fees\n",
    "        fees = sum([o.cost * fee for o in orders if o.side.value == OrderSide.BUY.value])\n",
    "        fees += sum([o.amount * fee for o in orders if o.side.value == OrderSide.SELL.value])\n",
    "        fee_sum += fees\n",
    "        print('fees:', fees)\n",
    "               \n",
    "    print('fee_sum:', fee_sum)"
   ]
  }
 ],
 "metadata": {
  "kernelspec": {
   "display_name": "venv",
   "language": "python",
   "name": "python3"
  },
  "language_info": {
   "codemirror_mode": {
    "name": "ipython",
    "version": 3
   },
   "file_extension": ".py",
   "mimetype": "text/x-python",
   "name": "python",
   "nbconvert_exporter": "python",
   "pygments_lexer": "ipython3",
   "version": "3.9.16"
  },
  "orig_nbformat": 4
 },
 "nbformat": 4,
 "nbformat_minor": 2
}
