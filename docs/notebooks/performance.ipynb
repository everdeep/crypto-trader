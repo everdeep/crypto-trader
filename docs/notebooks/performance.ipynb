{
 "cells": [
  {
   "attachments": {},
   "cell_type": "markdown",
   "metadata": {},
   "source": [
    "# Visualing portfolio performance"
   ]
  },
  {
   "cell_type": "code",
   "execution_count": 2,
   "metadata": {},
   "outputs": [],
   "source": [
    "import sys\n",
    "\n",
    "# Add the src directory to the path\n",
    "# If it bugs out, just alternate between ../../ and ../../src\n",
    "sys.path.append(\"../../\")\n",
    "\n",
    "from src.config import app_config\n",
    "from sqlalchemy import create_engine\n",
    "from sqlalchemy.orm import Session\n",
    "\n",
    "ENGINE  = create_engine(app_config.SQLALCHEMY_DATABASE_URI, echo=False, pool_size=20, max_overflow=0)"
   ]
  },
  {
   "cell_type": "code",
   "execution_count": 4,
   "metadata": {},
   "outputs": [],
   "source": [
    "from src.service import DataService\n",
    "from cryptolib.model import PortfolioHistoryModel, BalanceHistoryModel, CurrencyPairConfigModel\n",
    "import matplotlib.pyplot as plt\n",
    "\n",
    "def bot_info(bot: CurrencyPairConfigModel, **params):\n",
    "    strat_config = ','.join([sc.value for sc in bot.strategy_config])\n",
    "    output = f\"Bot: {bot.id} - {bot.currency_pair} - {bot.strategy.value} ({strat_config}) - {bot.interval.value}\"\n",
    "    for key, val in params.items():\n",
    "        output += f\" - {key}: {val}\"\n",
    "    print(output)"
   ]
  },
  {
   "attachments": {},
   "cell_type": "markdown",
   "metadata": {},
   "source": [
    "### Bokeh\n",
    "For nice graphing..."
   ]
  },
  {
   "cell_type": "code",
   "execution_count": 11,
   "metadata": {},
   "outputs": [
    {
     "data": {
      "text/html": [
       "<div class=\"bk-root\">\n",
       "        <a href=\"https://bokeh.org\" target=\"_blank\" class=\"bk-logo bk-logo-small bk-logo-notebook\"></a>\n",
       "        <span id=\"2357\">Loading BokehJS ...</span>\n",
       "    </div>\n"
      ]
     },
     "metadata": {},
     "output_type": "display_data"
    },
    {
     "data": {
      "application/javascript": "(function(root) {\n  function now() {\n    return new Date();\n  }\n\n  const force = true;\n\n  if (typeof root._bokeh_onload_callbacks === \"undefined\" || force === true) {\n    root._bokeh_onload_callbacks = [];\n    root._bokeh_is_loading = undefined;\n  }\n\nconst JS_MIME_TYPE = 'application/javascript';\n  const HTML_MIME_TYPE = 'text/html';\n  const EXEC_MIME_TYPE = 'application/vnd.bokehjs_exec.v0+json';\n  const CLASS_NAME = 'output_bokeh rendered_html';\n\n  /**\n   * Render data to the DOM node\n   */\n  function render(props, node) {\n    const script = document.createElement(\"script\");\n    node.appendChild(script);\n  }\n\n  /**\n   * Handle when an output is cleared or removed\n   */\n  function handleClearOutput(event, handle) {\n    const cell = handle.cell;\n\n    const id = cell.output_area._bokeh_element_id;\n    const server_id = cell.output_area._bokeh_server_id;\n    // Clean up Bokeh references\n    if (id != null && id in Bokeh.index) {\n      Bokeh.index[id].model.document.clear();\n      delete Bokeh.index[id];\n    }\n\n    if (server_id !== undefined) {\n      // Clean up Bokeh references\n      const cmd_clean = \"from bokeh.io.state import curstate; print(curstate().uuid_to_server['\" + server_id + \"'].get_sessions()[0].document.roots[0]._id)\";\n      cell.notebook.kernel.execute(cmd_clean, {\n        iopub: {\n          output: function(msg) {\n            const id = msg.content.text.trim();\n            if (id in Bokeh.index) {\n              Bokeh.index[id].model.document.clear();\n              delete Bokeh.index[id];\n            }\n          }\n        }\n      });\n      // Destroy server and session\n      const cmd_destroy = \"import bokeh.io.notebook as ion; ion.destroy_server('\" + server_id + \"')\";\n      cell.notebook.kernel.execute(cmd_destroy);\n    }\n  }\n\n  /**\n   * Handle when a new output is added\n   */\n  function handleAddOutput(event, handle) {\n    const output_area = handle.output_area;\n    const output = handle.output;\n\n    // limit handleAddOutput to display_data with EXEC_MIME_TYPE content only\n    if ((output.output_type != \"display_data\") || (!Object.prototype.hasOwnProperty.call(output.data, EXEC_MIME_TYPE))) {\n      return\n    }\n\n    const toinsert = output_area.element.find(\".\" + CLASS_NAME.split(' ')[0]);\n\n    if (output.metadata[EXEC_MIME_TYPE][\"id\"] !== undefined) {\n      toinsert[toinsert.length - 1].firstChild.textContent = output.data[JS_MIME_TYPE];\n      // store reference to embed id on output_area\n      output_area._bokeh_element_id = output.metadata[EXEC_MIME_TYPE][\"id\"];\n    }\n    if (output.metadata[EXEC_MIME_TYPE][\"server_id\"] !== undefined) {\n      const bk_div = document.createElement(\"div\");\n      bk_div.innerHTML = output.data[HTML_MIME_TYPE];\n      const script_attrs = bk_div.children[0].attributes;\n      for (let i = 0; i < script_attrs.length; i++) {\n        toinsert[toinsert.length - 1].firstChild.setAttribute(script_attrs[i].name, script_attrs[i].value);\n        toinsert[toinsert.length - 1].firstChild.textContent = bk_div.children[0].textContent\n      }\n      // store reference to server id on output_area\n      output_area._bokeh_server_id = output.metadata[EXEC_MIME_TYPE][\"server_id\"];\n    }\n  }\n\n  function register_renderer(events, OutputArea) {\n\n    function append_mime(data, metadata, element) {\n      // create a DOM node to render to\n      const toinsert = this.create_output_subarea(\n        metadata,\n        CLASS_NAME,\n        EXEC_MIME_TYPE\n      );\n      this.keyboard_manager.register_events(toinsert);\n      // Render to node\n      const props = {data: data, metadata: metadata[EXEC_MIME_TYPE]};\n      render(props, toinsert[toinsert.length - 1]);\n      element.append(toinsert);\n      return toinsert\n    }\n\n    /* Handle when an output is cleared or removed */\n    events.on('clear_output.CodeCell', handleClearOutput);\n    events.on('delete.Cell', handleClearOutput);\n\n    /* Handle when a new output is added */\n    events.on('output_added.OutputArea', handleAddOutput);\n\n    /**\n     * Register the mime type and append_mime function with output_area\n     */\n    OutputArea.prototype.register_mime_type(EXEC_MIME_TYPE, append_mime, {\n      /* Is output safe? */\n      safe: true,\n      /* Index of renderer in `output_area.display_order` */\n      index: 0\n    });\n  }\n\n  // register the mime type if in Jupyter Notebook environment and previously unregistered\n  if (root.Jupyter !== undefined) {\n    const events = require('base/js/events');\n    const OutputArea = require('notebook/js/outputarea').OutputArea;\n\n    if (OutputArea.prototype.mime_types().indexOf(EXEC_MIME_TYPE) == -1) {\n      register_renderer(events, OutputArea);\n    }\n  }\n  if (typeof (root._bokeh_timeout) === \"undefined\" || force === true) {\n    root._bokeh_timeout = Date.now() + 5000;\n    root._bokeh_failed_load = false;\n  }\n\n  const NB_LOAD_WARNING = {'data': {'text/html':\n     \"<div style='background-color: #fdd'>\\n\"+\n     \"<p>\\n\"+\n     \"BokehJS does not appear to have successfully loaded. If loading BokehJS from CDN, this \\n\"+\n     \"may be due to a slow or bad network connection. Possible fixes:\\n\"+\n     \"</p>\\n\"+\n     \"<ul>\\n\"+\n     \"<li>re-rerun `output_notebook()` to attempt to load from CDN again, or</li>\\n\"+\n     \"<li>use INLINE resources instead, as so:</li>\\n\"+\n     \"</ul>\\n\"+\n     \"<code>\\n\"+\n     \"from bokeh.resources import INLINE\\n\"+\n     \"output_notebook(resources=INLINE)\\n\"+\n     \"</code>\\n\"+\n     \"</div>\"}};\n\n  function display_loaded() {\n    const el = document.getElementById(\"2357\");\n    if (el != null) {\n      el.textContent = \"BokehJS is loading...\";\n    }\n    if (root.Bokeh !== undefined) {\n      if (el != null) {\n        el.textContent = \"BokehJS \" + root.Bokeh.version + \" successfully loaded.\";\n      }\n    } else if (Date.now() < root._bokeh_timeout) {\n      setTimeout(display_loaded, 100)\n    }\n  }\n\n  function run_callbacks() {\n    try {\n      root._bokeh_onload_callbacks.forEach(function(callback) {\n        if (callback != null)\n          callback();\n      });\n    } finally {\n      delete root._bokeh_onload_callbacks\n    }\n    console.debug(\"Bokeh: all callbacks have finished\");\n  }\n\n  function load_libs(css_urls, js_urls, callback) {\n    if (css_urls == null) css_urls = [];\n    if (js_urls == null) js_urls = [];\n\n    root._bokeh_onload_callbacks.push(callback);\n    if (root._bokeh_is_loading > 0) {\n      console.debug(\"Bokeh: BokehJS is being loaded, scheduling callback at\", now());\n      return null;\n    }\n    if (js_urls == null || js_urls.length === 0) {\n      run_callbacks();\n      return null;\n    }\n    console.debug(\"Bokeh: BokehJS not loaded, scheduling load and callback at\", now());\n    root._bokeh_is_loading = css_urls.length + js_urls.length;\n\n    function on_load() {\n      root._bokeh_is_loading--;\n      if (root._bokeh_is_loading === 0) {\n        console.debug(\"Bokeh: all BokehJS libraries/stylesheets loaded\");\n        run_callbacks()\n      }\n    }\n\n    function on_error(url) {\n      console.error(\"failed to load \" + url);\n    }\n\n    for (let i = 0; i < css_urls.length; i++) {\n      const url = css_urls[i];\n      const element = document.createElement(\"link\");\n      element.onload = on_load;\n      element.onerror = on_error.bind(null, url);\n      element.rel = \"stylesheet\";\n      element.type = \"text/css\";\n      element.href = url;\n      console.debug(\"Bokeh: injecting link tag for BokehJS stylesheet: \", url);\n      document.body.appendChild(element);\n    }\n\n    for (let i = 0; i < js_urls.length; i++) {\n      const url = js_urls[i];\n      const element = document.createElement('script');\n      element.onload = on_load;\n      element.onerror = on_error.bind(null, url);\n      element.async = false;\n      element.src = url;\n      console.debug(\"Bokeh: injecting script tag for BokehJS library: \", url);\n      document.head.appendChild(element);\n    }\n  };\n\n  function inject_raw_css(css) {\n    const element = document.createElement(\"style\");\n    element.appendChild(document.createTextNode(css));\n    document.body.appendChild(element);\n  }\n\n  const js_urls = [\"https://cdn.bokeh.org/bokeh/release/bokeh-2.4.3.min.js\", \"https://cdn.bokeh.org/bokeh/release/bokeh-gl-2.4.3.min.js\", \"https://cdn.bokeh.org/bokeh/release/bokeh-widgets-2.4.3.min.js\", \"https://cdn.bokeh.org/bokeh/release/bokeh-tables-2.4.3.min.js\", \"https://cdn.bokeh.org/bokeh/release/bokeh-mathjax-2.4.3.min.js\"];\n  const css_urls = [];\n\n  const inline_js = [    function(Bokeh) {\n      Bokeh.set_log_level(\"info\");\n    },\nfunction(Bokeh) {\n    }\n  ];\n\n  function run_inline_js() {\n    if (root.Bokeh !== undefined || force === true) {\n          for (let i = 0; i < inline_js.length; i++) {\n      inline_js[i].call(root, root.Bokeh);\n    }\nif (force === true) {\n        display_loaded();\n      }} else if (Date.now() < root._bokeh_timeout) {\n      setTimeout(run_inline_js, 100);\n    } else if (!root._bokeh_failed_load) {\n      console.log(\"Bokeh: BokehJS failed to load within specified timeout.\");\n      root._bokeh_failed_load = true;\n    } else if (force !== true) {\n      const cell = $(document.getElementById(\"2357\")).parents('.cell').data().cell;\n      cell.output_area.append_execute_result(NB_LOAD_WARNING)\n    }\n  }\n\n  if (root._bokeh_is_loading === 0) {\n    console.debug(\"Bokeh: BokehJS loaded, going straight to plotting\");\n    run_inline_js();\n  } else {\n    load_libs(css_urls, js_urls, function() {\n      console.debug(\"Bokeh: BokehJS plotting callback run at\", now());\n      run_inline_js();\n    });\n  }\n}(window));",
      "application/vnd.bokehjs_load.v0+json": ""
     },
     "metadata": {},
     "output_type": "display_data"
    }
   ],
   "source": [
    "from bokeh.plotting import figure, show\n",
    "from bokeh.models import ColumnDataSource\n",
    "from bokeh.models.tools import HoverTool\n",
    "from bokeh.palettes import Category10, Dark2_5\n",
    "from bokeh.io import output_notebook\n",
    "\n",
    "import itertools\n",
    "\n",
    "output_notebook()\n",
    "\n",
    "colors = itertools.cycle(Dark2_5)\n",
    "\n",
    "class BokehGraph:\n",
    "\n",
    "    WIDTH = 1400\n",
    "    HEIGHT = 600\n",
    "\n",
    "    def __init__(self):\n",
    "        self.figure = figure(width=self.WIDTH , height=self.HEIGHT, x_axis_type=\"datetime\")\n",
    "        self.figure.add_tools(HoverTool(\n",
    "            tooltips=[\n",
    "                ('symbol', '$name'),\n",
    "                ('date', '@x{%F}'),\n",
    "                ('value', '@y{0.0000}'),\n",
    "            ],\n",
    "            formatters={\n",
    "                '@x': 'datetime',\n",
    "            },\n",
    "            mode='vline'\n",
    "        ))\n",
    "\n",
    "    def add_line(self, x, y, legend_label, name):\n",
    "        source = ColumnDataSource(data=dict(x=x, y=y))\n",
    "        self.figure.line(x=\"x\", y=\"y\", source=source, line_width=2, legend_label=legend_label, color=next(colors), name=name)\n",
    "\n",
    "    def show(self):\n",
    "        # Hide lines on click\n",
    "        self.figure.legend.click_policy = \"hide\"\n",
    "        show(self.figure)"
   ]
  },
  {
   "attachments": {},
   "cell_type": "markdown",
   "metadata": {},
   "source": [
    "### Bot performance"
   ]
  },
  {
   "cell_type": "code",
   "execution_count": 6,
   "metadata": {},
   "outputs": [
    {
     "name": "stdout",
     "output_type": "stream",
     "text": [
      "219\n"
     ]
    }
   ],
   "source": [
    "# Number of active bots\n",
    "with Session(ENGINE) as session:\n",
    "    bots = DataService().get_active_bots(session)\n",
    "    print(len(bots))"
   ]
  },
  {
   "attachments": {},
   "cell_type": "markdown",
   "metadata": {},
   "source": [
    "##### Show profitable bots"
   ]
  },
  {
   "cell_type": "code",
   "execution_count": 6,
   "metadata": {},
   "outputs": [
    {
     "name": "stdout",
     "output_type": "stream",
     "text": [
      "User Id: 1 | Strategy: Bollinger Bands | Interval: 1m - P/L: 3.7841064699999833\n",
      "User Id: 23 | Strategy: Relative Strength Index | Interval: 1m - P/L: 1284.6941351899995\n",
      "User Id: 24 | Strategy: Chaikin Oscillator | Interval: 1m - P/L: 536.4037856599989\n",
      "User Id: 26 | Strategy: Chaikin Oscillator | Interval: 5m - P/L: 503.4855538900001\n",
      "User Id: 28 | Strategy: Chaikin Oscillator | Interval: 30m - P/L: 1104.3865486800005\n",
      "User Id: 32 | Strategy: Commodity Channel Index | Interval: 1m - P/L: 761.3701511300005\n",
      "User Id: 33 | Strategy: Commodity Channel Index | Interval: 5m - P/L: 879.4432600900009\n",
      "User Id: 35 | Strategy: Commodity Channel Index | Interval: 30m - P/L: 778.8459996800002\n",
      "User Id: 36 | Strategy: Commodity Channel Index | Interval: 1h - P/L: 967.9799149899991\n",
      "User Id: 37 | Strategy: Commodity Channel Index | Interval: 2h - P/L: 125.2463946099997\n",
      "User Id: 44 | Strategy: Chaikin Oscillator | Interval: 15m - P/L: 261.16311701999985\n",
      "User Id: 45 | Strategy: Chaikin Oscillator | Interval: 30m - P/L: 26445.059807130012\n",
      "User Id: 46 | Strategy: Relative Strength Index | Interval: 1m - P/L: 153916.84661990002\n",
      "User Id: 47 | Strategy: Relative Strength Index | Interval: 1m - P/L: 2121.8641135300004\n"
     ]
    }
   ],
   "source": [
    "from src.service import DataService\n",
    "from cryptolib.model import CurrencyPairConfigModel, OrderModel\n",
    "from cryptolib.enums import OrderSide\n",
    "\n",
    "with Session(ENGINE) as session:\n",
    "    users = DataService().get_users(session)\n",
    "    for user in users:\n",
    "        bots = user.currency_pair_configs\n",
    "        profit = 0\n",
    "        for bot in bots:\n",
    "            orders = bot.orders\n",
    "            if len(orders) == 0:\n",
    "                continue\n",
    "\n",
    "            latest_order: OrderModel = orders[-1]            \n",
    "            if latest_order.side.value == OrderSide.BUY.value:\n",
    "                profit += latest_order.cost - bot.allocated_balance\n",
    "            else:\n",
    "                profit += latest_order.amount - bot.allocated_balance\n",
    "        \n",
    "        print(f\"User Id: {user.id} | Strategy: {bots[0].strategy.value} | Interval: {bots[0].interval.value} - P/L: {profit}\") if profit > 0 else None"
   ]
  },
  {
   "attachments": {},
   "cell_type": "markdown",
   "metadata": {},
   "source": [
    "**For a particular user**"
   ]
  },
  {
   "cell_type": "code",
   "execution_count": 17,
   "metadata": {},
   "outputs": [
    {
     "name": "stdout",
     "output_type": "stream",
     "text": [
      "=====================================\n",
      "User: bot28@admin.com\n",
      "Bot: 136 - BNBUSDT - Chaikin Oscillator (11,15) - 30m - avg: 5055.225478370311\n",
      "Bot: 132 - BTCUSDT - Chaikin Oscillator (11,15) - 30m - avg: 5086.15357205889\n",
      "Bot: 133 - ETHUSDT - Chaikin Oscillator (11,15) - 30m - avg: 5085.510041094634\n",
      "Bot: 134 - IMXUSDT - Chaikin Oscillator (11,15) - 30m - avg: 5237.280254711514\n",
      "Bot: 135 - XRPUSDT - Chaikin Oscillator (11,15) - 30m - avg: 5063.601976732306\n"
     ]
    },
    {
     "data": {
      "text/html": [
       "\n",
       "  <div class=\"bk-root\" id=\"904e6de9-2605-4490-9022-7e9cff7736b0\" data-root-id=\"7711\"></div>\n"
      ]
     },
     "metadata": {},
     "output_type": "display_data"
    },
    {
     "data": {
      "application/javascript": "(function(root) {\n  function embed_document(root) {\n  const docs_json = {\"5af629e4-04b8-4bcf-865f-f1e218d23991\":{\"defs\":[],\"roots\":{\"references\":[{\"attributes\":{\"below\":[{\"id\":\"7720\"}],\"center\":[{\"id\":\"7723\"},{\"id\":\"7727\"},{\"id\":\"7774\"}],\"left\":[{\"id\":\"7724\"}],\"renderers\":[{\"id\":\"7749\"},{\"id\":\"7781\"},{\"id\":\"7814\"},{\"id\":\"7849\"},{\"id\":\"7886\"}],\"title\":{\"id\":\"7751\"},\"toolbar\":{\"id\":\"7735\"},\"width\":1400,\"x_range\":{\"id\":\"7712\"},\"x_scale\":{\"id\":\"7716\"},\"y_range\":{\"id\":\"7714\"},\"y_scale\":{\"id\":\"7718\"}},\"id\":\"7711\",\"subtype\":\"Figure\",\"type\":\"Plot\"},{\"attributes\":{\"source\":{\"id\":\"7809\"}},\"id\":\"7815\",\"type\":\"CDSView\"},{\"attributes\":{\"source\":{\"id\":\"7881\"}},\"id\":\"7887\",\"type\":\"CDSView\"},{\"attributes\":{\"line_alpha\":0.2,\"line_color\":\"#1b9e77\",\"line_width\":2,\"x\":{\"field\":\"x\"},\"y\":{\"field\":\"y\"}},\"id\":\"7848\",\"type\":\"Line\"},{\"attributes\":{\"coordinates\":null,\"data_source\":{\"id\":\"7881\"},\"glyph\":{\"id\":\"7883\"},\"group\":null,\"hover_glyph\":null,\"muted_glyph\":{\"id\":\"7885\"},\"name\":\"XRPUSDT\",\"nonselection_glyph\":{\"id\":\"7884\"},\"view\":{\"id\":\"7887\"}},\"id\":\"7886\",\"type\":\"GlyphRenderer\"},{\"attributes\":{\"line_color\":\"#e7298a\",\"line_width\":2,\"x\":{\"field\":\"x\"},\"y\":{\"field\":\"y\"}},\"id\":\"7778\",\"type\":\"Line\"},{\"attributes\":{\"coordinates\":null,\"formatter\":{\"id\":\"7754\"},\"group\":null,\"major_label_policy\":{\"id\":\"7755\"},\"ticker\":{\"id\":\"7725\"}},\"id\":\"7724\",\"type\":\"LinearAxis\"},{\"attributes\":{},\"id\":\"7904\",\"type\":\"UnionRenderers\"},{\"attributes\":{\"callback\":null,\"formatters\":{\"@x\":\"datetime\"},\"mode\":\"vline\",\"tooltips\":[[\"symbol\",\"$name\"],[\"date\",\"@x{%F}\"],[\"value\",\"@y{0.0000}\"]]},\"id\":\"7742\",\"type\":\"HoverTool\"},{\"attributes\":{},\"id\":\"7733\",\"type\":\"HelpTool\"},{\"attributes\":{\"num_minor_ticks\":5,\"tickers\":[{\"id\":\"7762\"},{\"id\":\"7763\"},{\"id\":\"7764\"},{\"id\":\"7765\"},{\"id\":\"7766\"},{\"id\":\"7767\"},{\"id\":\"7768\"},{\"id\":\"7769\"},{\"id\":\"7770\"},{\"id\":\"7771\"},{\"id\":\"7772\"},{\"id\":\"7773\"}]},\"id\":\"7721\",\"type\":\"DatetimeTicker\"},{\"attributes\":{},\"id\":\"7725\",\"type\":\"BasicTicker\"},{\"attributes\":{},\"id\":\"7866\",\"type\":\"Selection\"},{\"attributes\":{},\"id\":\"7729\",\"type\":\"WheelZoomTool\"},{\"attributes\":{},\"id\":\"7865\",\"type\":\"UnionRenderers\"},{\"attributes\":{\"mantissas\":[1,2,5],\"max_interval\":500.0,\"num_minor_ticks\":0},\"id\":\"7762\",\"type\":\"AdaptiveTicker\"},{\"attributes\":{\"coordinates\":null,\"data_source\":{\"id\":\"7809\"},\"glyph\":{\"id\":\"7811\"},\"group\":null,\"hover_glyph\":null,\"muted_glyph\":{\"id\":\"7813\"},\"name\":\"ETHUSDT\",\"nonselection_glyph\":{\"id\":\"7812\"},\"view\":{\"id\":\"7815\"}},\"id\":\"7814\",\"type\":\"GlyphRenderer\"},{\"attributes\":{\"coordinates\":null,\"data_source\":{\"id\":\"7844\"},\"glyph\":{\"id\":\"7846\"},\"group\":null,\"hover_glyph\":null,\"muted_glyph\":{\"id\":\"7848\"},\"name\":\"IMXUSDT\",\"nonselection_glyph\":{\"id\":\"7847\"},\"view\":{\"id\":\"7850\"}},\"id\":\"7849\",\"type\":\"GlyphRenderer\"},{\"attributes\":{\"line_color\":\"#1b9e77\",\"line_width\":2,\"x\":{\"field\":\"x\"},\"y\":{\"field\":\"y\"}},\"id\":\"7846\",\"type\":\"Line\"},{\"attributes\":{\"data\":{\"x\":[1683559700000.0,1683576436000.0,1683580158000.0,1683585748000.0,1683591319000.0,1683595040000.0,1683624798000.0,1683628520000.0,1683637823000.0,1683652706000.0,1683667587000.0,1683684287000.0,1683695448000.0,1683712952000.0,1683734582000.0,1683740164000.0,1683756906000.0,1683766202000.0,1683781083000.0,1683788523000.0,1683799686000.0,1683805263000.0,1683836888000.0,1683849907000.0,1683872226000.0,1683881527000.0,1683890830000.0,1683896408000.0,1683907582000.0,1683915009000.0,1683926170000.0,1683941051000.0,1683950350000.0,1683959650000.0,1683972670000.0,1683981973000.0,1683993549000.0,1684004710000.0,1684091970000.0,1684108712000.0,1684118014000.0,1684129174000.0,1684136614000.0,1684165000000.0,1684178022000.0],\"y\":[5000.0,4977.23290066,5004.3690243,4976.93048785,4979.16786867,4988.41895533,4995.21217164,5005.25132802,5002.58081816,5034.42049172,5025.74926443,5023.93999512,5042.90874894,5043.11465516,5157.99164008,5161.19820955,5158.87882166,5117.98276278,5095.56379279,5081.14845686,5083.76737968,5079.93864372,5079.84797223,5090.04616465,5083.44663997,4990.00493405,4999.13474847,5008.80879565,5038.44639272,5018.07436132,5034.76258679,5123.53153097,5162.48987092,5156.2503793,5147.49126522,5149.83145207,5152.69851964,5141.37927816,5185.32823795,5171.67224876,5172.09697114,5224.6601903,5228.7277743,5241.69368552,5240.72032543]},\"selected\":{\"id\":\"7794\"},\"selection_policy\":{\"id\":\"7793\"}},\"id\":\"7776\",\"type\":\"ColumnDataSource\"},{\"attributes\":{\"label\":{\"value\":\"Bot 4 - XRPUSDT\"},\"renderers\":[{\"id\":\"7886\"}]},\"id\":\"7919\",\"type\":\"LegendItem\"},{\"attributes\":{\"axis\":{\"id\":\"7724\"},\"coordinates\":null,\"dimension\":1,\"group\":null,\"ticker\":null},\"id\":\"7727\",\"type\":\"Grid\"},{\"attributes\":{\"source\":{\"id\":\"7844\"}},\"id\":\"7850\",\"type\":\"CDSView\"},{\"attributes\":{\"data\":{\"x\":[1683548542000.0,1683576498000.0,1683585797000.0,1683595103000.0,1683611838000.0,1683623058000.0,1683652822000.0,1683665840000.0,1683682606000.0,1683695626000.0,1683712951000.0,1683725270000.0,1683728992000.0,1683740165000.0,1683756906000.0,1683760625000.0,1683784805000.0,1683801782000.0,1683835262000.0,1683850143000.0,1683881765000.0,1683906065000.0,1683930251000.0,1683943266000.0,1683967449000.0,1683980470000.0,1684001230000.0,1684082670000.0,1684091970000.0,1684112432000.0,1684129174000.0,1684174303000.0,1684178023000.0],\"y\":[5000.0,5080.94645081,5127.62181191,5167.3708182,5213.74465888,5261.08086201,5267.89573359,5247.07401132,5205.8666238,5199.04373177,5185.25316485,5198.93457162,5219.56526437,5544.06204668,5347.56364503,5395.12774353,5238.451054,5189.42811633,5238.31909454,5201.68749248,5144.60450216,5201.76677441,5187.51535859,5222.28422829,5146.39898852,5223.41992576,5230.45957525,5336.48240448,5385.82900531,5300.56522159,5272.37072573,5335.13704389,5314.37775578]},\"selected\":{\"id\":\"7866\"},\"selection_policy\":{\"id\":\"7865\"}},\"id\":\"7844\",\"type\":\"ColumnDataSource\"},{\"attributes\":{\"base\":60,\"mantissas\":[1,2,5,10,15,20,30],\"max_interval\":1800000.0,\"min_interval\":1000.0,\"num_minor_ticks\":0},\"id\":\"7763\",\"type\":\"AdaptiveTicker\"},{\"attributes\":{\"base\":24,\"mantissas\":[1,2,4,6,8,12],\"max_interval\":43200000.0,\"min_interval\":3600000.0,\"num_minor_ticks\":0},\"id\":\"7764\",\"type\":\"AdaptiveTicker\"},{\"attributes\":{},\"id\":\"7714\",\"type\":\"DataRange1d\"},{\"attributes\":{},\"id\":\"7773\",\"type\":\"YearsTicker\"},{\"attributes\":{\"months\":[0,1,2,3,4,5,6,7,8,9,10,11]},\"id\":\"7769\",\"type\":\"MonthsTicker\"},{\"attributes\":{\"line_alpha\":0.2,\"line_color\":\"#e7298a\",\"line_width\":2,\"x\":{\"field\":\"x\"},\"y\":{\"field\":\"y\"}},\"id\":\"7780\",\"type\":\"Line\"},{\"attributes\":{\"line_alpha\":0.1,\"line_color\":\"#1b9e77\",\"line_width\":2,\"x\":{\"field\":\"x\"},\"y\":{\"field\":\"y\"}},\"id\":\"7847\",\"type\":\"Line\"},{\"attributes\":{\"days\":[1,15]},\"id\":\"7768\",\"type\":\"DaysTicker\"},{\"attributes\":{\"days\":[1,2,3,4,5,6,7,8,9,10,11,12,13,14,15,16,17,18,19,20,21,22,23,24,25,26,27,28,29,30,31]},\"id\":\"7765\",\"type\":\"DaysTicker\"},{\"attributes\":{\"coordinates\":null,\"data_source\":{\"id\":\"7776\"},\"glyph\":{\"id\":\"7778\"},\"group\":null,\"hover_glyph\":null,\"muted_glyph\":{\"id\":\"7780\"},\"name\":\"BTCUSDT\",\"nonselection_glyph\":{\"id\":\"7779\"},\"view\":{\"id\":\"7782\"}},\"id\":\"7781\",\"type\":\"GlyphRenderer\"},{\"attributes\":{\"source\":{\"id\":\"7776\"}},\"id\":\"7782\",\"type\":\"CDSView\"},{\"attributes\":{\"label\":{\"value\":\"Bot 3 - IMXUSDT\"},\"renderers\":[{\"id\":\"7849\"}]},\"id\":\"7880\",\"type\":\"LegendItem\"},{\"attributes\":{\"days\":[1,4,7,10,13,16,19,22,25,28]},\"id\":\"7766\",\"type\":\"DaysTicker\"},{\"attributes\":{\"coordinates\":null,\"formatter\":{\"id\":\"7757\"},\"group\":null,\"major_label_policy\":{\"id\":\"7758\"},\"ticker\":{\"id\":\"7721\"}},\"id\":\"7720\",\"type\":\"DatetimeAxis\"},{\"attributes\":{\"days\":[1,8,15,22]},\"id\":\"7767\",\"type\":\"DaysTicker\"},{\"attributes\":{},\"id\":\"7716\",\"type\":\"LinearScale\"},{\"attributes\":{\"months\":[0,6]},\"id\":\"7772\",\"type\":\"MonthsTicker\"},{\"attributes\":{\"line_alpha\":0.2,\"line_color\":\"#66a61e\",\"line_width\":2,\"x\":{\"field\":\"x\"},\"y\":{\"field\":\"y\"}},\"id\":\"7813\",\"type\":\"Line\"},{\"attributes\":{\"months\":[0,2,4,6,8,10]},\"id\":\"7770\",\"type\":\"MonthsTicker\"},{\"attributes\":{\"line_alpha\":0.1,\"line_color\":\"#e7298a\",\"line_width\":2,\"x\":{\"field\":\"x\"},\"y\":{\"field\":\"y\"}},\"id\":\"7779\",\"type\":\"Line\"},{\"attributes\":{},\"id\":\"7731\",\"type\":\"SaveTool\"},{\"attributes\":{},\"id\":\"7793\",\"type\":\"UnionRenderers\"},{\"attributes\":{},\"id\":\"7718\",\"type\":\"LinearScale\"},{\"attributes\":{\"months\":[0,4,8]},\"id\":\"7771\",\"type\":\"MonthsTicker\"},{\"attributes\":{\"label\":{\"value\":\"Bot 1 - BTCUSDT\"},\"renderers\":[{\"id\":\"7781\"}]},\"id\":\"7808\",\"type\":\"LegendItem\"},{\"attributes\":{\"line_alpha\":0.2,\"line_color\":\"#d95f02\",\"line_width\":2,\"x\":{\"field\":\"x\"},\"y\":{\"field\":\"y\"}},\"id\":\"7885\",\"type\":\"Line\"},{\"attributes\":{\"axis\":{\"id\":\"7720\"},\"coordinates\":null,\"group\":null,\"ticker\":null},\"id\":\"7723\",\"type\":\"Grid\"},{\"attributes\":{},\"id\":\"7794\",\"type\":\"Selection\"},{\"attributes\":{},\"id\":\"7712\",\"type\":\"DataRange1d\"},{\"attributes\":{\"overlay\":{\"id\":\"7734\"}},\"id\":\"7730\",\"type\":\"BoxZoomTool\"},{\"attributes\":{},\"id\":\"7732\",\"type\":\"ResetTool\"},{\"attributes\":{},\"id\":\"7728\",\"type\":\"PanTool\"},{\"attributes\":{\"label\":{\"value\":\"Bot 0 - BNBUSDT\"},\"renderers\":[{\"id\":\"7749\"}]},\"id\":\"7775\",\"type\":\"LegendItem\"},{\"attributes\":{\"label\":{\"value\":\"Bot 2 - ETHUSDT\"},\"renderers\":[{\"id\":\"7814\"}]},\"id\":\"7843\",\"type\":\"LegendItem\"},{\"attributes\":{\"data\":{\"x\":[1683548543000.0,1683561558000.0,1683576437000.0,1683591320000.0,1683608063000.0,1683628521000.0,1683639680000.0,1683658280000.0,1683682427000.0,1683695449000.0,1683712952000.0,1683723413000.0,1683756906000.0,1683782944000.0,1683792247000.0,1683801544000.0,1683814567000.0,1683836889000.0,1683849906000.0,1683872226000.0,1683881527000.0,1683896409000.0,1683916869000.0,1683926171000.0,1683941051000.0,1683959650000.0,1683981973000.0,1684080812000.0,1684108712000.0,1684118014000.0,1684165001000.0,1684178023000.0],\"y\":[5000.0,5007.88643455,5020.54459794,5018.93234796,5038.19888263,5047.83829298,5036.64219986,5049.47032525,5031.71891143,5051.07167544,5055.91141267,5041.31769939,5042.93870284,5014.14019453,5002.91929352,4980.47029804,5002.9120684,4974.11372639,5000.18179657,4996.92752821,5001.84253738,5048.12528464,5063.00188174,5074.62569725,5121.25829183,5141.2307009,5136.25852387,5124.66051968,5139.44319321,5146.04491812,5185.68069438,5170.90667625]},\"selected\":{\"id\":\"7760\"},\"selection_policy\":{\"id\":\"7759\"}},\"id\":\"7744\",\"type\":\"ColumnDataSource\"},{\"attributes\":{},\"id\":\"7829\",\"type\":\"Selection\"},{\"attributes\":{},\"id\":\"7755\",\"type\":\"AllLabels\"},{\"attributes\":{\"line_color\":\"#66a61e\",\"line_width\":2,\"x\":{\"field\":\"x\"},\"y\":{\"field\":\"y\"}},\"id\":\"7811\",\"type\":\"Line\"},{\"attributes\":{\"data\":{\"x\":[1683548541000.0,1683552261000.0,1683557842000.0,1683580159000.0,1683591319000.0,1683595041000.0,1683619220000.0,1683634103000.0,1683652706000.0,1683662001000.0,1683665719000.0,1683684287000.0,1683693585000.0,1683708465000.0,1683725270000.0,1683756907000.0,1683781084000.0,1683786665000.0,1683836888000.0,1683851767000.0,1683870368000.0,1683881527000.0,1683890831000.0,1683898270000.0,1683907582000.0,1683928030000.0,1683942909000.0,1683959651000.0,1683968953000.0,1683972671000.0,1683993549000.0,1683999128000.0,1684093831000.0,1684097553000.0,1684101272000.0,1684110575000.0,1684118014000.0,1684134756000.0,1684168724000.0,1684174302000.0,1684178022000.0],\"y\":[5000.0,5004.60965738,5012.78157776,5020.07681764,5005.12803757,5012.57035792,5018.68929298,5014.59933191,5032.61637047,5029.83174903,5034.90098569,5035.31091567,5048.23420836,5048.20686346,5055.14482634,5128.53872178,5082.08884575,5065.00955628,5090.28341989,5090.14076868,5076.89087345,5008.48982028,5026.04354386,5036.79319198,5037.27837101,5043.51157205,5139.1703343,5151.65218387,5133.29644552,5147.59674623,5140.40677613,5112.14834574,5163.4797117,5146.09261378,5127.10935883,5132.59015156,5133.58873741,5219.79325247,5233.51962321,5239.2974979,5228.40022904]},\"selected\":{\"id\":\"7829\"},\"selection_policy\":{\"id\":\"7828\"}},\"id\":\"7809\",\"type\":\"ColumnDataSource\"},{\"attributes\":{\"line_color\":\"#7570b3\",\"line_width\":2,\"x\":{\"field\":\"x\"},\"y\":{\"field\":\"y\"}},\"id\":\"7746\",\"type\":\"Line\"},{\"attributes\":{\"data\":{\"x\":[1683548542000.0,1683552262000.0,1683559700000.0,1683580159000.0,1683589465000.0,1683615506000.0,1683619220000.0,1683628521000.0,1683634107000.0,1683641543000.0,1683652706000.0,1683671304000.0,1683684287000.0,1683719697000.0,1683727133000.0,1683730855000.0,1683756907000.0,1683781084000.0,1683786723000.0,1683818344000.0,1683836944000.0,1683849965000.0,1683872284000.0,1683898327000.0,1683913208000.0,1683946687000.0,1683959708000.0,1683963429000.0,1683972729000.0,1683980173000.0,1683993550000.0,1684004710000.0,1684093832000.0,1684106854000.0,1684121735000.0,1684134756000.0,1684138474000.0,1684161280000.0,1684174303000.0],\"y\":[5000.0,5011.50483203,5013.80421484,5012.65636589,5023.36971362,5045.80074172,5054.10365784,5037.51728859,5022.02090318,5041.05272091,5073.13862932,5063.56215244,5045.75778482,5059.90476926,5069.41363422,5050.37805146,5023.49568738,4996.68816979,5001.35470089,4953.44452735,4911.25763287,4942.17596179,4965.69893162,5083.08293215,5073.57517824,5136.84564517,5145.26079133,5140.43296042,5135.6085278,5132.00543482,5106.7719733,5105.56953111,5138.03547019,5130.79029679,5124.76258262,5148.83380189,5159.62800273,5151.19132999,5149.98156218]},\"selected\":{\"id\":\"7905\"},\"selection_policy\":{\"id\":\"7904\"}},\"id\":\"7881\",\"type\":\"ColumnDataSource\"},{\"attributes\":{\"line_alpha\":0.2,\"line_color\":\"#7570b3\",\"line_width\":2,\"x\":{\"field\":\"x\"},\"y\":{\"field\":\"y\"}},\"id\":\"7748\",\"type\":\"Line\"},{\"attributes\":{\"bottom_units\":\"screen\",\"coordinates\":null,\"fill_alpha\":0.5,\"fill_color\":\"lightgrey\",\"group\":null,\"left_units\":\"screen\",\"level\":\"overlay\",\"line_alpha\":1.0,\"line_color\":\"black\",\"line_dash\":[4,4],\"line_width\":2,\"right_units\":\"screen\",\"syncable\":false,\"top_units\":\"screen\"},\"id\":\"7734\",\"type\":\"BoxAnnotation\"},{\"attributes\":{\"tools\":[{\"id\":\"7728\"},{\"id\":\"7729\"},{\"id\":\"7730\"},{\"id\":\"7731\"},{\"id\":\"7732\"},{\"id\":\"7733\"},{\"id\":\"7742\"}]},\"id\":\"7735\",\"type\":\"Toolbar\"},{\"attributes\":{\"line_alpha\":0.1,\"line_color\":\"#7570b3\",\"line_width\":2,\"x\":{\"field\":\"x\"},\"y\":{\"field\":\"y\"}},\"id\":\"7747\",\"type\":\"Line\"},{\"attributes\":{},\"id\":\"7754\",\"type\":\"BasicTickFormatter\"},{\"attributes\":{\"source\":{\"id\":\"7744\"}},\"id\":\"7750\",\"type\":\"CDSView\"},{\"attributes\":{},\"id\":\"7757\",\"type\":\"DatetimeTickFormatter\"},{\"attributes\":{\"coordinates\":null,\"data_source\":{\"id\":\"7744\"},\"glyph\":{\"id\":\"7746\"},\"group\":null,\"hover_glyph\":null,\"muted_glyph\":{\"id\":\"7748\"},\"name\":\"BNBUSDT\",\"nonselection_glyph\":{\"id\":\"7747\"},\"view\":{\"id\":\"7750\"}},\"id\":\"7749\",\"type\":\"GlyphRenderer\"},{\"attributes\":{\"coordinates\":null,\"group\":null},\"id\":\"7751\",\"type\":\"Title\"},{\"attributes\":{},\"id\":\"7828\",\"type\":\"UnionRenderers\"},{\"attributes\":{},\"id\":\"7758\",\"type\":\"AllLabels\"},{\"attributes\":{\"click_policy\":\"hide\",\"coordinates\":null,\"group\":null,\"items\":[{\"id\":\"7775\"},{\"id\":\"7808\"},{\"id\":\"7843\"},{\"id\":\"7880\"},{\"id\":\"7919\"}]},\"id\":\"7774\",\"type\":\"Legend\"},{\"attributes\":{\"line_alpha\":0.1,\"line_color\":\"#66a61e\",\"line_width\":2,\"x\":{\"field\":\"x\"},\"y\":{\"field\":\"y\"}},\"id\":\"7812\",\"type\":\"Line\"},{\"attributes\":{},\"id\":\"7759\",\"type\":\"UnionRenderers\"},{\"attributes\":{\"line_color\":\"#d95f02\",\"line_width\":2,\"x\":{\"field\":\"x\"},\"y\":{\"field\":\"y\"}},\"id\":\"7883\",\"type\":\"Line\"},{\"attributes\":{},\"id\":\"7760\",\"type\":\"Selection\"},{\"attributes\":{\"line_alpha\":0.1,\"line_color\":\"#d95f02\",\"line_width\":2,\"x\":{\"field\":\"x\"},\"y\":{\"field\":\"y\"}},\"id\":\"7884\",\"type\":\"Line\"},{\"attributes\":{},\"id\":\"7905\",\"type\":\"Selection\"}],\"root_ids\":[\"7711\"]},\"title\":\"Bokeh Application\",\"version\":\"2.4.3\"}};\n  const render_items = [{\"docid\":\"5af629e4-04b8-4bcf-865f-f1e218d23991\",\"root_ids\":[\"7711\"],\"roots\":{\"7711\":\"904e6de9-2605-4490-9022-7e9cff7736b0\"}}];\n  root.Bokeh.embed.embed_items_notebook(docs_json, render_items);\n  }\n  if (root.Bokeh !== undefined) {\n    embed_document(root);\n  } else {\n    let attempts = 0;\n    const timer = setInterval(function(root) {\n      if (root.Bokeh !== undefined) {\n        clearInterval(timer);\n        embed_document(root);\n      } else {\n        attempts++;\n        if (attempts > 100) {\n          clearInterval(timer);\n          console.log(\"Bokeh: ERROR: Unable to run BokehJS code because BokehJS library is missing\");\n        }\n      }\n    }, 10, root)\n  }\n})(window);",
      "application/vnd.bokehjs_exec.v0+json": ""
     },
     "metadata": {
      "application/vnd.bokehjs_exec.v0+json": {
       "id": "7711"
      }
     },
     "output_type": "display_data"
    }
   ],
   "source": [
    "from cryptolib.model import CurrencyPairConfigModel, OrderModel\n",
    "from cryptolib.enums import OrderSide\n",
    "\n",
    "# The user to check\n",
    "# be mindful of how many active bots are running.\n",
    "# E.g. plotting 400 bots is pretty slow\n",
    "user_id = 28\n",
    "\n",
    "with Session(ENGINE) as session:\n",
    "    user = DataService().get_user(session, user_id)\n",
    "    bots: list[CurrencyPairConfigModel] = user.currency_pair_configs\n",
    "    \n",
    "    print(\"=====================================\")\n",
    "    print(f\"User: {user.email}\")\n",
    "    \n",
    "    # Plot the history of orders for each bot in bokeh\n",
    "    graph = BokehGraph()\n",
    "    for i, bot in enumerate(bots):\n",
    "        orders: list[OrderModel] = bot.orders\n",
    "        x = [o.created_at for o in orders if o.side.value == OrderSide.BUY.value]\n",
    "        y = [o.cost for o in orders if o.side.value == OrderSide.BUY.value]\n",
    "        \n",
    "        divisor = len(y) if len(y) > 0 else 1\n",
    "        avg = sum(y) / divisor\n",
    "\n",
    "        # Skip plotting the losing bots\n",
    "        if avg < bot.allocated_balance:\n",
    "            # Disable the bots if desired\n",
    "            # bot.is_active = False\n",
    "            # session.commit()\n",
    "            continue\n",
    "        \n",
    "        bot_info(bot, avg=avg)\n",
    "        graph.add_line(x, y, f\"Bot {i} - {bot.currency_pair}\", name=f\"{bot.currency_pair}\")\n",
    "\n",
    "    graph.show()\n"
   ]
  }
 ],
 "metadata": {
  "kernelspec": {
   "display_name": "venv",
   "language": "python",
   "name": "python3"
  },
  "language_info": {
   "codemirror_mode": {
    "name": "ipython",
    "version": 3
   },
   "file_extension": ".py",
   "mimetype": "text/x-python",
   "name": "python",
   "nbconvert_exporter": "python",
   "pygments_lexer": "ipython3",
   "version": "3.9.16"
  },
  "orig_nbformat": 4
 },
 "nbformat": 4,
 "nbformat_minor": 2
}
