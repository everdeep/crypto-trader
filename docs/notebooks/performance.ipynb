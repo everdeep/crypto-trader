{
 "cells": [
  {
   "attachments": {},
   "cell_type": "markdown",
   "metadata": {},
   "source": [
    "# Visualing portfolio performance"
   ]
  },
  {
   "cell_type": "code",
   "execution_count": 2,
   "metadata": {},
   "outputs": [
    {
     "name": "stdout",
     "output_type": "stream",
     "text": [
      "Sandbox: False\n"
     ]
    }
   ],
   "source": [
    "import sys\n",
    "\n",
    "# Add the src directory to the path\n",
    "# If it bugs out, just alternate between ../../ and ../../src\n",
    "sys.path.append(\"../../\")\n",
    "\n",
    "from src.config import config\n",
    "from sqlalchemy import create_engine\n",
    "from sqlalchemy.orm import Session\n",
    "\n",
    "ENGINE  = create_engine(config.SQLALCHEMY_DATABASE_URI, echo=False, pool_size=20, max_overflow=0)\n",
    "\n",
    "print('Sandbox:', config.API_SANDBOX)"
   ]
  },
  {
   "cell_type": "code",
   "execution_count": 3,
   "metadata": {},
   "outputs": [],
   "source": [
    "from src.service import DataService\n",
    "from cryptolib.model import PortfolioHistoryModel, BalanceHistoryModel, CurrencyPairConfigModel\n",
    "import matplotlib.pyplot as plt\n",
    "\n",
    "def bot_info(bot: CurrencyPairConfigModel, **params):\n",
    "    strat_config = ','.join([sc.value for sc in bot.strategy_config])\n",
    "    output = f\"Bot: {bot.id} - {bot.currency_pair} - {bot.strategy.value} ({strat_config}) - {bot.interval.value}\"\n",
    "    for key, val in params.items():\n",
    "        output += f\" - {key}: {val}\"\n",
    "    print(output)"
   ]
  },
  {
   "attachments": {},
   "cell_type": "markdown",
   "metadata": {},
   "source": [
    "### Bokeh\n",
    "For nice graphing..."
   ]
  },
  {
   "cell_type": "code",
   "execution_count": 4,
   "metadata": {},
   "outputs": [
    {
     "data": {
      "text/html": [
       "<div class=\"bk-root\">\n",
       "        <a href=\"https://bokeh.org\" target=\"_blank\" class=\"bk-logo bk-logo-small bk-logo-notebook\"></a>\n",
       "        <span id=\"1002\">Loading BokehJS ...</span>\n",
       "    </div>\n"
      ]
     },
     "metadata": {},
     "output_type": "display_data"
    },
    {
     "data": {
      "application/javascript": "(function(root) {\n  function now() {\n    return new Date();\n  }\n\n  const force = true;\n\n  if (typeof root._bokeh_onload_callbacks === \"undefined\" || force === true) {\n    root._bokeh_onload_callbacks = [];\n    root._bokeh_is_loading = undefined;\n  }\n\nconst JS_MIME_TYPE = 'application/javascript';\n  const HTML_MIME_TYPE = 'text/html';\n  const EXEC_MIME_TYPE = 'application/vnd.bokehjs_exec.v0+json';\n  const CLASS_NAME = 'output_bokeh rendered_html';\n\n  /**\n   * Render data to the DOM node\n   */\n  function render(props, node) {\n    const script = document.createElement(\"script\");\n    node.appendChild(script);\n  }\n\n  /**\n   * Handle when an output is cleared or removed\n   */\n  function handleClearOutput(event, handle) {\n    const cell = handle.cell;\n\n    const id = cell.output_area._bokeh_element_id;\n    const server_id = cell.output_area._bokeh_server_id;\n    // Clean up Bokeh references\n    if (id != null && id in Bokeh.index) {\n      Bokeh.index[id].model.document.clear();\n      delete Bokeh.index[id];\n    }\n\n    if (server_id !== undefined) {\n      // Clean up Bokeh references\n      const cmd_clean = \"from bokeh.io.state import curstate; print(curstate().uuid_to_server['\" + server_id + \"'].get_sessions()[0].document.roots[0]._id)\";\n      cell.notebook.kernel.execute(cmd_clean, {\n        iopub: {\n          output: function(msg) {\n            const id = msg.content.text.trim();\n            if (id in Bokeh.index) {\n              Bokeh.index[id].model.document.clear();\n              delete Bokeh.index[id];\n            }\n          }\n        }\n      });\n      // Destroy server and session\n      const cmd_destroy = \"import bokeh.io.notebook as ion; ion.destroy_server('\" + server_id + \"')\";\n      cell.notebook.kernel.execute(cmd_destroy);\n    }\n  }\n\n  /**\n   * Handle when a new output is added\n   */\n  function handleAddOutput(event, handle) {\n    const output_area = handle.output_area;\n    const output = handle.output;\n\n    // limit handleAddOutput to display_data with EXEC_MIME_TYPE content only\n    if ((output.output_type != \"display_data\") || (!Object.prototype.hasOwnProperty.call(output.data, EXEC_MIME_TYPE))) {\n      return\n    }\n\n    const toinsert = output_area.element.find(\".\" + CLASS_NAME.split(' ')[0]);\n\n    if (output.metadata[EXEC_MIME_TYPE][\"id\"] !== undefined) {\n      toinsert[toinsert.length - 1].firstChild.textContent = output.data[JS_MIME_TYPE];\n      // store reference to embed id on output_area\n      output_area._bokeh_element_id = output.metadata[EXEC_MIME_TYPE][\"id\"];\n    }\n    if (output.metadata[EXEC_MIME_TYPE][\"server_id\"] !== undefined) {\n      const bk_div = document.createElement(\"div\");\n      bk_div.innerHTML = output.data[HTML_MIME_TYPE];\n      const script_attrs = bk_div.children[0].attributes;\n      for (let i = 0; i < script_attrs.length; i++) {\n        toinsert[toinsert.length - 1].firstChild.setAttribute(script_attrs[i].name, script_attrs[i].value);\n        toinsert[toinsert.length - 1].firstChild.textContent = bk_div.children[0].textContent\n      }\n      // store reference to server id on output_area\n      output_area._bokeh_server_id = output.metadata[EXEC_MIME_TYPE][\"server_id\"];\n    }\n  }\n\n  function register_renderer(events, OutputArea) {\n\n    function append_mime(data, metadata, element) {\n      // create a DOM node to render to\n      const toinsert = this.create_output_subarea(\n        metadata,\n        CLASS_NAME,\n        EXEC_MIME_TYPE\n      );\n      this.keyboard_manager.register_events(toinsert);\n      // Render to node\n      const props = {data: data, metadata: metadata[EXEC_MIME_TYPE]};\n      render(props, toinsert[toinsert.length - 1]);\n      element.append(toinsert);\n      return toinsert\n    }\n\n    /* Handle when an output is cleared or removed */\n    events.on('clear_output.CodeCell', handleClearOutput);\n    events.on('delete.Cell', handleClearOutput);\n\n    /* Handle when a new output is added */\n    events.on('output_added.OutputArea', handleAddOutput);\n\n    /**\n     * Register the mime type and append_mime function with output_area\n     */\n    OutputArea.prototype.register_mime_type(EXEC_MIME_TYPE, append_mime, {\n      /* Is output safe? */\n      safe: true,\n      /* Index of renderer in `output_area.display_order` */\n      index: 0\n    });\n  }\n\n  // register the mime type if in Jupyter Notebook environment and previously unregistered\n  if (root.Jupyter !== undefined) {\n    const events = require('base/js/events');\n    const OutputArea = require('notebook/js/outputarea').OutputArea;\n\n    if (OutputArea.prototype.mime_types().indexOf(EXEC_MIME_TYPE) == -1) {\n      register_renderer(events, OutputArea);\n    }\n  }\n  if (typeof (root._bokeh_timeout) === \"undefined\" || force === true) {\n    root._bokeh_timeout = Date.now() + 5000;\n    root._bokeh_failed_load = false;\n  }\n\n  const NB_LOAD_WARNING = {'data': {'text/html':\n     \"<div style='background-color: #fdd'>\\n\"+\n     \"<p>\\n\"+\n     \"BokehJS does not appear to have successfully loaded. If loading BokehJS from CDN, this \\n\"+\n     \"may be due to a slow or bad network connection. Possible fixes:\\n\"+\n     \"</p>\\n\"+\n     \"<ul>\\n\"+\n     \"<li>re-rerun `output_notebook()` to attempt to load from CDN again, or</li>\\n\"+\n     \"<li>use INLINE resources instead, as so:</li>\\n\"+\n     \"</ul>\\n\"+\n     \"<code>\\n\"+\n     \"from bokeh.resources import INLINE\\n\"+\n     \"output_notebook(resources=INLINE)\\n\"+\n     \"</code>\\n\"+\n     \"</div>\"}};\n\n  function display_loaded() {\n    const el = document.getElementById(\"1002\");\n    if (el != null) {\n      el.textContent = \"BokehJS is loading...\";\n    }\n    if (root.Bokeh !== undefined) {\n      if (el != null) {\n        el.textContent = \"BokehJS \" + root.Bokeh.version + \" successfully loaded.\";\n      }\n    } else if (Date.now() < root._bokeh_timeout) {\n      setTimeout(display_loaded, 100)\n    }\n  }\n\n  function run_callbacks() {\n    try {\n      root._bokeh_onload_callbacks.forEach(function(callback) {\n        if (callback != null)\n          callback();\n      });\n    } finally {\n      delete root._bokeh_onload_callbacks\n    }\n    console.debug(\"Bokeh: all callbacks have finished\");\n  }\n\n  function load_libs(css_urls, js_urls, callback) {\n    if (css_urls == null) css_urls = [];\n    if (js_urls == null) js_urls = [];\n\n    root._bokeh_onload_callbacks.push(callback);\n    if (root._bokeh_is_loading > 0) {\n      console.debug(\"Bokeh: BokehJS is being loaded, scheduling callback at\", now());\n      return null;\n    }\n    if (js_urls == null || js_urls.length === 0) {\n      run_callbacks();\n      return null;\n    }\n    console.debug(\"Bokeh: BokehJS not loaded, scheduling load and callback at\", now());\n    root._bokeh_is_loading = css_urls.length + js_urls.length;\n\n    function on_load() {\n      root._bokeh_is_loading--;\n      if (root._bokeh_is_loading === 0) {\n        console.debug(\"Bokeh: all BokehJS libraries/stylesheets loaded\");\n        run_callbacks()\n      }\n    }\n\n    function on_error(url) {\n      console.error(\"failed to load \" + url);\n    }\n\n    for (let i = 0; i < css_urls.length; i++) {\n      const url = css_urls[i];\n      const element = document.createElement(\"link\");\n      element.onload = on_load;\n      element.onerror = on_error.bind(null, url);\n      element.rel = \"stylesheet\";\n      element.type = \"text/css\";\n      element.href = url;\n      console.debug(\"Bokeh: injecting link tag for BokehJS stylesheet: \", url);\n      document.body.appendChild(element);\n    }\n\n    for (let i = 0; i < js_urls.length; i++) {\n      const url = js_urls[i];\n      const element = document.createElement('script');\n      element.onload = on_load;\n      element.onerror = on_error.bind(null, url);\n      element.async = false;\n      element.src = url;\n      console.debug(\"Bokeh: injecting script tag for BokehJS library: \", url);\n      document.head.appendChild(element);\n    }\n  };\n\n  function inject_raw_css(css) {\n    const element = document.createElement(\"style\");\n    element.appendChild(document.createTextNode(css));\n    document.body.appendChild(element);\n  }\n\n  const js_urls = [\"https://cdn.bokeh.org/bokeh/release/bokeh-2.4.3.min.js\", \"https://cdn.bokeh.org/bokeh/release/bokeh-gl-2.4.3.min.js\", \"https://cdn.bokeh.org/bokeh/release/bokeh-widgets-2.4.3.min.js\", \"https://cdn.bokeh.org/bokeh/release/bokeh-tables-2.4.3.min.js\", \"https://cdn.bokeh.org/bokeh/release/bokeh-mathjax-2.4.3.min.js\"];\n  const css_urls = [];\n\n  const inline_js = [    function(Bokeh) {\n      Bokeh.set_log_level(\"info\");\n    },\nfunction(Bokeh) {\n    }\n  ];\n\n  function run_inline_js() {\n    if (root.Bokeh !== undefined || force === true) {\n          for (let i = 0; i < inline_js.length; i++) {\n      inline_js[i].call(root, root.Bokeh);\n    }\nif (force === true) {\n        display_loaded();\n      }} else if (Date.now() < root._bokeh_timeout) {\n      setTimeout(run_inline_js, 100);\n    } else if (!root._bokeh_failed_load) {\n      console.log(\"Bokeh: BokehJS failed to load within specified timeout.\");\n      root._bokeh_failed_load = true;\n    } else if (force !== true) {\n      const cell = $(document.getElementById(\"1002\")).parents('.cell').data().cell;\n      cell.output_area.append_execute_result(NB_LOAD_WARNING)\n    }\n  }\n\n  if (root._bokeh_is_loading === 0) {\n    console.debug(\"Bokeh: BokehJS loaded, going straight to plotting\");\n    run_inline_js();\n  } else {\n    load_libs(css_urls, js_urls, function() {\n      console.debug(\"Bokeh: BokehJS plotting callback run at\", now());\n      run_inline_js();\n    });\n  }\n}(window));",
      "application/vnd.bokehjs_load.v0+json": ""
     },
     "metadata": {},
     "output_type": "display_data"
    }
   ],
   "source": [
    "from bokeh.plotting import figure, show\n",
    "from bokeh.models import ColumnDataSource\n",
    "from bokeh.models.tools import HoverTool\n",
    "from bokeh.palettes import Category10, Dark2_5\n",
    "from bokeh.io import output_notebook\n",
    "\n",
    "import itertools\n",
    "\n",
    "output_notebook()\n",
    "\n",
    "colors = itertools.cycle(Dark2_5)\n",
    "\n",
    "class BokehGraph:\n",
    "\n",
    "    WIDTH = 1400\n",
    "    HEIGHT = 600\n",
    "\n",
    "    def __init__(self):\n",
    "        self.figure = figure(width=self.WIDTH , height=self.HEIGHT, x_axis_type=\"datetime\")\n",
    "        self.figure.add_tools(HoverTool(\n",
    "            tooltips=[\n",
    "                ('symbol', '$name'),\n",
    "                ('date', '@x{%F}'),\n",
    "                ('value', '@y{0.0000}'),\n",
    "            ],\n",
    "            formatters={\n",
    "                '@x': 'datetime',\n",
    "            },\n",
    "            mode='vline'\n",
    "        ))\n",
    "\n",
    "    def add_line(self, x, y, legend_label, name):\n",
    "        source = ColumnDataSource(data=dict(x=x, y=y))\n",
    "        self.figure.line(x=\"x\", y=\"y\", source=source, line_width=2, legend_label=legend_label, color=next(colors), name=name)\n",
    "\n",
    "    def show(self):\n",
    "        # Hide lines on click\n",
    "        self.figure.legend.click_policy = \"hide\"\n",
    "        show(self.figure)"
   ]
  },
  {
   "attachments": {},
   "cell_type": "markdown",
   "metadata": {},
   "source": [
    "### Bot performance"
   ]
  },
  {
   "cell_type": "code",
   "execution_count": 5,
   "metadata": {},
   "outputs": [
    {
     "name": "stdout",
     "output_type": "stream",
     "text": [
      "3\n"
     ]
    }
   ],
   "source": [
    "# Number of active bots\n",
    "with Session(ENGINE) as session:\n",
    "    bots = DataService().get_active_bots(session)\n",
    "    print(len(bots))"
   ]
  },
  {
   "attachments": {},
   "cell_type": "markdown",
   "metadata": {},
   "source": [
    "##### Show profitable bots"
   ]
  },
  {
   "cell_type": "code",
   "execution_count": 6,
   "metadata": {},
   "outputs": [
    {
     "name": "stdout",
     "output_type": "stream",
     "text": [
      "User Id: 1 | Strategy: Bollinger Bands | Interval: 1m - P/L: 3.7841064699999833\n",
      "User Id: 23 | Strategy: Relative Strength Index | Interval: 1m - P/L: 1942.114556569999\n",
      "User Id: 24 | Strategy: Chaikin Oscillator | Interval: 1m - P/L: 578.105688319999\n",
      "User Id: 26 | Strategy: Chaikin Oscillator | Interval: 5m - P/L: 405.1770468099994\n",
      "User Id: 28 | Strategy: Chaikin Oscillator | Interval: 30m - P/L: 981.2958956699995\n",
      "User Id: 32 | Strategy: Commodity Channel Index | Interval: 1m - P/L: 801.0754232500003\n",
      "User Id: 33 | Strategy: Commodity Channel Index | Interval: 5m - P/L: 976.9868413900003\n",
      "User Id: 35 | Strategy: Commodity Channel Index | Interval: 30m - P/L: 827.8116922400004\n",
      "User Id: 36 | Strategy: Commodity Channel Index | Interval: 1h - P/L: 1019.3423543099989\n",
      "User Id: 37 | Strategy: Commodity Channel Index | Interval: 2h - P/L: 125.2463946099997\n",
      "User Id: 44 | Strategy: Chaikin Oscillator | Interval: 15m - P/L: 186.03620545000012\n",
      "User Id: 45 | Strategy: Chaikin Oscillator | Interval: 30m - P/L: 25720.660454839992\n",
      "User Id: 46 | Strategy: Relative Strength Index | Interval: 1m - P/L: 369816.62029591994\n",
      "User Id: 47 | Strategy: Relative Strength Index | Interval: 1m - P/L: 5368.07221661\n"
     ]
    }
   ],
   "source": [
    "from src.service import DataService\n",
    "from cryptolib.model import CurrencyPairConfigModel, OrderModel\n",
    "from cryptolib.enums import OrderSide\n",
    "\n",
    "with Session(ENGINE) as session:\n",
    "    users = DataService().get_users(session)\n",
    "    for user in users:\n",
    "        bots = user.currency_pair_configs\n",
    "        profit = 0\n",
    "        for bot in bots:\n",
    "            orders = bot.orders\n",
    "            if len(orders) == 0:\n",
    "                continue\n",
    "\n",
    "            latest_order: OrderModel = orders[-1]            \n",
    "            if latest_order.side.value == OrderSide.BUY.value:\n",
    "                profit += latest_order.cost - bot.allocated_balance\n",
    "            else:\n",
    "                profit += latest_order.amount - bot.allocated_balance\n",
    "        \n",
    "        print(f\"User Id: {user.id} | Strategy: {bots[0].strategy.value} | Interval: {bots[0].interval.value} - P/L: {profit}\") if profit > 0 else None"
   ]
  },
  {
   "attachments": {},
   "cell_type": "markdown",
   "metadata": {},
   "source": [
    "**For a particular user**"
   ]
  },
  {
   "cell_type": "code",
   "execution_count": 13,
   "metadata": {},
   "outputs": [
    {
     "name": "stdout",
     "output_type": "stream",
     "text": [
      "=====================================\n",
      "User: bot36@admin.com\n",
      "Bot: 176 - BNBUSDT - Commodity Channel Index (9) - 1h - avg: 5104.393068998462 - orders: 25\n",
      "Bot: 172 - BTCUSDT - Commodity Channel Index (9) - 1h - avg: 5102.0394556275 - orders: 23\n",
      "Bot: 173 - ETHUSDT - Commodity Channel Index (9) - 1h - avg: 5144.489654087271 - orders: 21\n",
      "Bot: 175 - XRPUSDT - Commodity Channel Index (9) - 1h - avg: 5222.7176084 - orders: 19\n",
      "Total Fee: $94\n",
      "Profit: $573.6397871132331\n",
      "Net Profit: $479.63978711323307\n",
      "Total Orders: 94\n"
     ]
    },
    {
     "data": {
      "text/html": [
       "\n",
       "  <div class=\"bk-root\" id=\"eb0fda6b-6f2e-45e9-8cac-370a7fe79e61\" data-root-id=\"3046\"></div>\n"
      ]
     },
     "metadata": {},
     "output_type": "display_data"
    },
    {
     "data": {
      "application/javascript": "(function(root) {\n  function embed_document(root) {\n  const docs_json = {\"b2316a4c-7a17-4667-8d4c-8afd8c586140\":{\"defs\":[],\"roots\":{\"references\":[{\"attributes\":{\"below\":[{\"id\":\"3055\"}],\"center\":[{\"id\":\"3058\"},{\"id\":\"3062\"},{\"id\":\"3109\"}],\"left\":[{\"id\":\"3059\"}],\"renderers\":[{\"id\":\"3084\"},{\"id\":\"3116\"},{\"id\":\"3149\"},{\"id\":\"3184\"}],\"title\":{\"id\":\"3086\"},\"toolbar\":{\"id\":\"3070\"},\"width\":1400,\"x_range\":{\"id\":\"3047\"},\"x_scale\":{\"id\":\"3051\"},\"y_range\":{\"id\":\"3049\"},\"y_scale\":{\"id\":\"3053\"}},\"id\":\"3046\",\"subtype\":\"Figure\",\"type\":\"Plot\"},{\"attributes\":{\"tools\":[{\"id\":\"3063\"},{\"id\":\"3064\"},{\"id\":\"3065\"},{\"id\":\"3066\"},{\"id\":\"3067\"},{\"id\":\"3068\"},{\"id\":\"3077\"}]},\"id\":\"3070\",\"type\":\"Toolbar\"},{\"attributes\":{\"bottom_units\":\"screen\",\"coordinates\":null,\"fill_alpha\":0.5,\"fill_color\":\"lightgrey\",\"group\":null,\"left_units\":\"screen\",\"level\":\"overlay\",\"line_alpha\":1.0,\"line_color\":\"black\",\"line_dash\":[4,4],\"line_width\":2,\"right_units\":\"screen\",\"syncable\":false,\"top_units\":\"screen\"},\"id\":\"3069\",\"type\":\"BoxAnnotation\"},{\"attributes\":{\"line_alpha\":0.2,\"line_color\":\"#d95f02\",\"line_width\":2,\"x\":{\"field\":\"x\"},\"y\":{\"field\":\"y\"}},\"id\":\"3115\",\"type\":\"Line\"},{\"attributes\":{\"callback\":null,\"formatters\":{\"@x\":\"datetime\"},\"mode\":\"vline\",\"tooltips\":[[\"symbol\",\"$name\"],[\"date\",\"@x{%F}\"],[\"value\",\"@y{0.0000}\"]]},\"id\":\"3077\",\"type\":\"HoverTool\"},{\"attributes\":{},\"id\":\"3092\",\"type\":\"DatetimeTickFormatter\"},{\"attributes\":{\"coordinates\":null,\"data_source\":{\"id\":\"3144\"},\"glyph\":{\"id\":\"3146\"},\"group\":null,\"hover_glyph\":null,\"muted_glyph\":{\"id\":\"3148\"},\"name\":\"ETHUSDT\",\"nonselection_glyph\":{\"id\":\"3147\"},\"view\":{\"id\":\"3150\"}},\"id\":\"3149\",\"type\":\"GlyphRenderer\"},{\"attributes\":{\"line_alpha\":0.2,\"line_color\":\"#7570b3\",\"line_width\":2,\"x\":{\"field\":\"x\"},\"y\":{\"field\":\"y\"}},\"id\":\"3148\",\"type\":\"Line\"},{\"attributes\":{\"overlay\":{\"id\":\"3069\"}},\"id\":\"3065\",\"type\":\"BoxZoomTool\"},{\"attributes\":{},\"id\":\"3053\",\"type\":\"LinearScale\"},{\"attributes\":{},\"id\":\"3063\",\"type\":\"PanTool\"},{\"attributes\":{},\"id\":\"3067\",\"type\":\"ResetTool\"},{\"attributes\":{},\"id\":\"3201\",\"type\":\"Selection\"},{\"attributes\":{\"months\":[0,1,2,3,4,5,6,7,8,9,10,11]},\"id\":\"3104\",\"type\":\"MonthsTicker\"},{\"attributes\":{\"line_alpha\":0.1,\"line_color\":\"#d95f02\",\"line_width\":2,\"x\":{\"field\":\"x\"},\"y\":{\"field\":\"y\"}},\"id\":\"3114\",\"type\":\"Line\"},{\"attributes\":{\"coordinates\":null,\"data_source\":{\"id\":\"3111\"},\"glyph\":{\"id\":\"3113\"},\"group\":null,\"hover_glyph\":null,\"muted_glyph\":{\"id\":\"3115\"},\"name\":\"BTCUSDT\",\"nonselection_glyph\":{\"id\":\"3114\"},\"view\":{\"id\":\"3117\"}},\"id\":\"3116\",\"type\":\"GlyphRenderer\"},{\"attributes\":{\"num_minor_ticks\":5,\"tickers\":[{\"id\":\"3097\"},{\"id\":\"3098\"},{\"id\":\"3099\"},{\"id\":\"3100\"},{\"id\":\"3101\"},{\"id\":\"3102\"},{\"id\":\"3103\"},{\"id\":\"3104\"},{\"id\":\"3105\"},{\"id\":\"3106\"},{\"id\":\"3107\"},{\"id\":\"3108\"}]},\"id\":\"3056\",\"type\":\"DatetimeTicker\"},{\"attributes\":{},\"id\":\"3049\",\"type\":\"DataRange1d\"},{\"attributes\":{\"coordinates\":null,\"formatter\":{\"id\":\"3092\"},\"group\":null,\"major_label_policy\":{\"id\":\"3093\"},\"ticker\":{\"id\":\"3056\"}},\"id\":\"3055\",\"type\":\"DatetimeAxis\"},{\"attributes\":{\"label\":{\"value\":\"Bot 4 - XRPUSDT\"},\"renderers\":[{\"id\":\"3184\"}]},\"id\":\"3215\",\"type\":\"LegendItem\"},{\"attributes\":{\"label\":{\"value\":\"Bot 1 - BTCUSDT\"},\"renderers\":[{\"id\":\"3116\"}]},\"id\":\"3143\",\"type\":\"LegendItem\"},{\"attributes\":{\"data\":{\"x\":[1683574822000.0,1683622822000.0,1683648801000.0,1683709546000.0,1683784326000.0,1683820744000.0,1683867605000.0,1683995351000.0,1684102295000.0,1684166865000.0,1684181205000.0,1684236586000.0,1684310508000.0],\"y\":[5000.0,4995.24714931,5035.1580401,5038.37128659,5082.01454182,5098.28219321,5065.41125609,5085.30812441,5151.09477643,5195.82927584,5215.63548644,5199.04631363,5195.71145311]},\"selected\":{\"id\":\"3095\"},\"selection_policy\":{\"id\":\"3094\"}},\"id\":\"3079\",\"type\":\"ColumnDataSource\"},{\"attributes\":{},\"id\":\"3108\",\"type\":\"YearsTicker\"},{\"attributes\":{\"source\":{\"id\":\"3179\"}},\"id\":\"3185\",\"type\":\"CDSView\"},{\"attributes\":{\"coordinates\":null,\"formatter\":{\"id\":\"3089\"},\"group\":null,\"major_label_policy\":{\"id\":\"3090\"},\"ticker\":{\"id\":\"3060\"}},\"id\":\"3059\",\"type\":\"LinearAxis\"},{\"attributes\":{},\"id\":\"3094\",\"type\":\"UnionRenderers\"},{\"attributes\":{},\"id\":\"3164\",\"type\":\"Selection\"},{\"attributes\":{\"line_alpha\":0.1,\"line_color\":\"#e7298a\",\"line_width\":2,\"x\":{\"field\":\"x\"},\"y\":{\"field\":\"y\"}},\"id\":\"3182\",\"type\":\"Line\"},{\"attributes\":{},\"id\":\"3068\",\"type\":\"HelpTool\"},{\"attributes\":{},\"id\":\"3060\",\"type\":\"BasicTicker\"},{\"attributes\":{},\"id\":\"3128\",\"type\":\"UnionRenderers\"},{\"attributes\":{\"base\":60,\"mantissas\":[1,2,5,10,15,20,30],\"max_interval\":1800000.0,\"min_interval\":1000.0,\"num_minor_ticks\":0},\"id\":\"3098\",\"type\":\"AdaptiveTicker\"},{\"attributes\":{\"days\":[1,4,7,10,13,16,19,22,25,28]},\"id\":\"3101\",\"type\":\"DaysTicker\"},{\"attributes\":{\"source\":{\"id\":\"3079\"}},\"id\":\"3085\",\"type\":\"CDSView\"},{\"attributes\":{\"axis\":{\"id\":\"3055\"},\"coordinates\":null,\"group\":null,\"ticker\":null},\"id\":\"3058\",\"type\":\"Grid\"},{\"attributes\":{\"line_color\":\"#7570b3\",\"line_width\":2,\"x\":{\"field\":\"x\"},\"y\":{\"field\":\"y\"}},\"id\":\"3146\",\"type\":\"Line\"},{\"attributes\":{},\"id\":\"3095\",\"type\":\"Selection\"},{\"attributes\":{\"days\":[1,2,3,4,5,6,7,8,9,10,11,12,13,14,15,16,17,18,19,20,21,22,23,24,25,26,27,28,29,30,31]},\"id\":\"3100\",\"type\":\"DaysTicker\"},{\"attributes\":{\"line_alpha\":0.1,\"line_color\":\"#7570b3\",\"line_width\":2,\"x\":{\"field\":\"x\"},\"y\":{\"field\":\"y\"}},\"id\":\"3147\",\"type\":\"Line\"},{\"attributes\":{},\"id\":\"3163\",\"type\":\"UnionRenderers\"},{\"attributes\":{\"data\":{\"x\":[1683546627000.0,1683655221000.0,1683709367000.0,1683746164000.0,1683912429000.0,1683992288000.0,1684095455000.0,1684167655000.0,1684206045000.0,1684321251000.0],\"y\":[5000.0,4922.66851339,4997.43139542,5053.56916911,5257.95902907,5334.68142488,5376.20135107,5412.9465406,5446.11566859,5425.60299187]},\"selected\":{\"id\":\"3201\"},\"selection_policy\":{\"id\":\"3200\"}},\"id\":\"3179\",\"type\":\"ColumnDataSource\"},{\"attributes\":{},\"id\":\"3089\",\"type\":\"BasicTickFormatter\"},{\"attributes\":{\"click_policy\":\"hide\",\"coordinates\":null,\"group\":null,\"items\":[{\"id\":\"3110\"},{\"id\":\"3143\"},{\"id\":\"3178\"},{\"id\":\"3215\"}]},\"id\":\"3109\",\"type\":\"Legend\"},{\"attributes\":{\"line_alpha\":0.2,\"line_color\":\"#e7298a\",\"line_width\":2,\"x\":{\"field\":\"x\"},\"y\":{\"field\":\"y\"}},\"id\":\"3183\",\"type\":\"Line\"},{\"attributes\":{},\"id\":\"3047\",\"type\":\"DataRange1d\"},{\"attributes\":{},\"id\":\"3090\",\"type\":\"AllLabels\"},{\"attributes\":{\"days\":[1,15]},\"id\":\"3103\",\"type\":\"DaysTicker\"},{\"attributes\":{\"months\":[0,6]},\"id\":\"3107\",\"type\":\"MonthsTicker\"},{\"attributes\":{\"line_color\":\"#1b9e77\",\"line_width\":2,\"x\":{\"field\":\"x\"},\"y\":{\"field\":\"y\"}},\"id\":\"3081\",\"type\":\"Line\"},{\"attributes\":{\"line_color\":\"#d95f02\",\"line_width\":2,\"x\":{\"field\":\"x\"},\"y\":{\"field\":\"y\"}},\"id\":\"3113\",\"type\":\"Line\"},{\"attributes\":{\"coordinates\":null,\"group\":null},\"id\":\"3086\",\"type\":\"Title\"},{\"attributes\":{\"line_alpha\":0.2,\"line_color\":\"#1b9e77\",\"line_width\":2,\"x\":{\"field\":\"x\"},\"y\":{\"field\":\"y\"}},\"id\":\"3083\",\"type\":\"Line\"},{\"attributes\":{\"data\":{\"x\":[1683575838000.0,1683655344000.0,1683705768000.0,1683746461000.0,1683926768000.0,1683961270000.0,1683995350000.0,1684099415000.0,1684164226000.0,1684201365000.0,1684310330000.0],\"y\":[5000.0,5011.60224124,5049.70157492,5077.30382229,5018.38630734,5113.75035322,5138.47434634,5204.13249074,5295.60468482,5336.86973506,5343.56063899]},\"selected\":{\"id\":\"3164\"},\"selection_policy\":{\"id\":\"3163\"}},\"id\":\"3144\",\"type\":\"ColumnDataSource\"},{\"attributes\":{\"source\":{\"id\":\"3144\"}},\"id\":\"3150\",\"type\":\"CDSView\"},{\"attributes\":{\"coordinates\":null,\"data_source\":{\"id\":\"3179\"},\"glyph\":{\"id\":\"3181\"},\"group\":null,\"hover_glyph\":null,\"muted_glyph\":{\"id\":\"3183\"},\"name\":\"XRPUSDT\",\"nonselection_glyph\":{\"id\":\"3182\"},\"view\":{\"id\":\"3185\"}},\"id\":\"3184\",\"type\":\"GlyphRenderer\"},{\"attributes\":{\"line_alpha\":0.1,\"line_color\":\"#1b9e77\",\"line_width\":2,\"x\":{\"field\":\"x\"},\"y\":{\"field\":\"y\"}},\"id\":\"3082\",\"type\":\"Line\"},{\"attributes\":{\"line_color\":\"#e7298a\",\"line_width\":2,\"x\":{\"field\":\"x\"},\"y\":{\"field\":\"y\"}},\"id\":\"3181\",\"type\":\"Line\"},{\"attributes\":{\"label\":{\"value\":\"Bot 0 - BNBUSDT\"},\"renderers\":[{\"id\":\"3084\"}]},\"id\":\"3110\",\"type\":\"LegendItem\"},{\"attributes\":{\"label\":{\"value\":\"Bot 2 - ETHUSDT\"},\"renderers\":[{\"id\":\"3149\"}]},\"id\":\"3178\",\"type\":\"LegendItem\"},{\"attributes\":{\"source\":{\"id\":\"3111\"}},\"id\":\"3117\",\"type\":\"CDSView\"},{\"attributes\":{},\"id\":\"3093\",\"type\":\"AllLabels\"},{\"attributes\":{\"mantissas\":[1,2,5],\"max_interval\":500.0,\"num_minor_ticks\":0},\"id\":\"3097\",\"type\":\"AdaptiveTicker\"},{\"attributes\":{\"base\":24,\"mantissas\":[1,2,4,6,8,12],\"max_interval\":43200000.0,\"min_interval\":3600000.0,\"num_minor_ticks\":0},\"id\":\"3099\",\"type\":\"AdaptiveTicker\"},{\"attributes\":{\"months\":[0,2,4,6,8,10]},\"id\":\"3105\",\"type\":\"MonthsTicker\"},{\"attributes\":{},\"id\":\"3051\",\"type\":\"LinearScale\"},{\"attributes\":{\"coordinates\":null,\"data_source\":{\"id\":\"3079\"},\"glyph\":{\"id\":\"3081\"},\"group\":null,\"hover_glyph\":null,\"muted_glyph\":{\"id\":\"3083\"},\"name\":\"BNBUSDT\",\"nonselection_glyph\":{\"id\":\"3082\"},\"view\":{\"id\":\"3085\"}},\"id\":\"3084\",\"type\":\"GlyphRenderer\"},{\"attributes\":{\"data\":{\"x\":[1683575905000.0,1683649824000.0,1683709366000.0,1683746460000.0,1683865147000.0,1683915010000.0,1684116996000.0,1684166740000.0,1684197885000.0,1684252848000.0,1684273908000.0,1684310930000.0],\"y\":[5000.0,5003.74055414,5057.9326994,5089.06181801,5099.96181938,5032.09595296,5081.58546262,5141.50533063,5164.83448675,5155.2093431,5181.77239634,5216.7736042]},\"selected\":{\"id\":\"3129\"},\"selection_policy\":{\"id\":\"3128\"}},\"id\":\"3111\",\"type\":\"ColumnDataSource\"},{\"attributes\":{},\"id\":\"3066\",\"type\":\"SaveTool\"},{\"attributes\":{},\"id\":\"3129\",\"type\":\"Selection\"},{\"attributes\":{},\"id\":\"3200\",\"type\":\"UnionRenderers\"},{\"attributes\":{},\"id\":\"3064\",\"type\":\"WheelZoomTool\"},{\"attributes\":{\"days\":[1,8,15,22]},\"id\":\"3102\",\"type\":\"DaysTicker\"},{\"attributes\":{\"months\":[0,4,8]},\"id\":\"3106\",\"type\":\"MonthsTicker\"},{\"attributes\":{\"axis\":{\"id\":\"3059\"},\"coordinates\":null,\"dimension\":1,\"group\":null,\"ticker\":null},\"id\":\"3062\",\"type\":\"Grid\"}],\"root_ids\":[\"3046\"]},\"title\":\"Bokeh Application\",\"version\":\"2.4.3\"}};\n  const render_items = [{\"docid\":\"b2316a4c-7a17-4667-8d4c-8afd8c586140\",\"root_ids\":[\"3046\"],\"roots\":{\"3046\":\"eb0fda6b-6f2e-45e9-8cac-370a7fe79e61\"}}];\n  root.Bokeh.embed.embed_items_notebook(docs_json, render_items);\n  }\n  if (root.Bokeh !== undefined) {\n    embed_document(root);\n  } else {\n    let attempts = 0;\n    const timer = setInterval(function(root) {\n      if (root.Bokeh !== undefined) {\n        clearInterval(timer);\n        embed_document(root);\n      } else {\n        attempts++;\n        if (attempts > 100) {\n          clearInterval(timer);\n          console.log(\"Bokeh: ERROR: Unable to run BokehJS code because BokehJS library is missing\");\n        }\n      }\n    }, 10, root)\n  }\n})(window);",
      "application/vnd.bokehjs_exec.v0+json": ""
     },
     "metadata": {
      "application/vnd.bokehjs_exec.v0+json": {
       "id": "3046"
      }
     },
     "output_type": "display_data"
    }
   ],
   "source": [
    "from cryptolib.model import CurrencyPairConfigModel, OrderModel\n",
    "from cryptolib.enums import OrderSide\n",
    "\n",
    "# The user to check\n",
    "# be mindful of how many active bots are running.\n",
    "# E.g. plotting 400 bots is pretty slow\n",
    "user_id = 36\n",
    "base_investment = 5000\n",
    "\n",
    "with Session(ENGINE) as session:\n",
    "    user = DataService().get_user(session, user_id)\n",
    "    bots: list[CurrencyPairConfigModel] = user.currency_pair_configs\n",
    "\n",
    "    print(\"=====================================\")\n",
    "    print(f\"User: {user.email}\")\n",
    "\n",
    "    # Plot the history of orders for each bot in bokeh\n",
    "    graph = BokehGraph()\n",
    "    fee = 1  # euro\n",
    "    fee_sum = 0\n",
    "    total_orders = 0\n",
    "    total_profit = 0\n",
    "    for i, bot in enumerate(bots):\n",
    "        orders: list[OrderModel] = bot.orders\n",
    "        x = [o.created_at for o in orders if o.side.value == OrderSide.BUY.value]\n",
    "        y = [o.cost for o in orders if o.side.value == OrderSide.BUY.value]\n",
    "\n",
    "        # calculate fees\n",
    "        fee_sum += len(orders) * fee\n",
    "        total_orders += len(orders)\n",
    "\n",
    "        divisor = len(y) if len(y) > 0 else 1\n",
    "        avg = sum(y) / divisor\n",
    "\n",
    "        # Skip plotting the losing bots\n",
    "        if avg < bot.allocated_balance:\n",
    "            # Disable the bots if desired\n",
    "            # bot.is_active = False\n",
    "            # session.commit()\n",
    "            continue\n",
    "\n",
    "        total_profit += avg - base_investment\n",
    "\n",
    "        bot_info(bot, avg=avg, orders=len(orders))\n",
    "        graph.add_line(\n",
    "            x, y, f\"Bot {i} - {bot.currency_pair}\", name=f\"{bot.currency_pair}\"\n",
    "        )\n",
    "\n",
    "    print(f\"Total Fee: ${fee_sum}\")\n",
    "    print(f\"Profit: ${total_profit}\")\n",
    "    print(f\"Net Profit: ${total_profit - fee_sum}\")\n",
    "    print(f\"Total Orders: {total_orders}\")\n",
    "    graph.show()"
   ]
  },
  {
   "cell_type": "code",
   "execution_count": 46,
   "metadata": {},
   "outputs": [
    {
     "name": "stdout",
     "output_type": "stream",
     "text": [
      "=====================================\n",
      "User: bot47@admin.com\n",
      "orders: 473\n",
      "orders: 237\n",
      "fees: 1019.4776537920199\n",
      "orders: 544\n",
      "orders: 272\n",
      "fees: 1227.7487063334456\n",
      "orders: 421\n",
      "orders: 211\n",
      "fees: 929.5401659415382\n",
      "fee_sum: 3176.7665260670037\n"
     ]
    }
   ],
   "source": [
    "# Calculate binance trading fees\n",
    "\n",
    "# The user to check\n",
    "user_id = 47\n",
    "\n",
    "with Session(ENGINE) as session:\n",
    "    user = DataService().get_user(session, user_id)\n",
    "    bots: list[CurrencyPairConfigModel] = user.currency_pair_configs\n",
    "    \n",
    "    print(\"=====================================\")\n",
    "    print(f\"User: {user.email}\")\n",
    "    \n",
    "    fee = 0.00075\n",
    "    fee_sum = 0\n",
    "    for i, bot in enumerate(bots):\n",
    "        orders: list[OrderModel] = bot.orders\n",
    "        print('orders:', len(orders))\n",
    "        # get every second orders\n",
    "        orders = orders[::2]\n",
    "        print('orders:', len(orders))\n",
    "\n",
    "        # calculate fees\n",
    "        fees = sum([o.cost * fee for o in orders if o.side.value == OrderSide.BUY.value])\n",
    "        fees += sum([o.amount * fee for o in orders if o.side.value == OrderSide.SELL.value])\n",
    "        fee_sum += fees\n",
    "        print('fees:', fees)\n",
    "               \n",
    "    print('fee_sum:', fee_sum)"
   ]
  }
 ],
 "metadata": {
  "kernelspec": {
   "display_name": "venv",
   "language": "python",
   "name": "python3"
  },
  "language_info": {
   "codemirror_mode": {
    "name": "ipython",
    "version": 3
   },
   "file_extension": ".py",
   "mimetype": "text/x-python",
   "name": "python",
   "nbconvert_exporter": "python",
   "pygments_lexer": "ipython3",
   "version": "3.9.16"
  },
  "orig_nbformat": 4
 },
 "nbformat": 4,
 "nbformat_minor": 2
}
